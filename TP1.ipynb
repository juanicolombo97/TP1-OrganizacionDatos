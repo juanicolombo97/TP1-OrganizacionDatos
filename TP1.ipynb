{
  "nbformat": 4,
  "nbformat_minor": 0,
  "metadata": {
    "colab": {
      "name": "TP1.ipynb",
      "provenance": [],
      "collapsed_sections": [],
      "authorship_tag": "ABX9TyNh1nGdkmrbJC+wjlzKLIVA",
      "include_colab_link": true
    },
    "kernelspec": {
      "name": "python3",
      "display_name": "Python 3"
    },
    "language_info": {
      "name": "python"
    }
  },
  "cells": [
    {
      "cell_type": "markdown",
      "metadata": {
        "id": "view-in-github",
        "colab_type": "text"
      },
      "source": [
        "<a href=\"https://colab.research.google.com/github/juanicolombo97/TP1-OrganizacionDatos/blob/main/TP1.ipynb\" target=\"_parent\"><img src=\"https://colab.research.google.com/assets/colab-badge.svg\" alt=\"Open In Colab\"/></a>"
      ]
    },
    {
      "cell_type": "markdown",
      "metadata": {
        "id": "wo1fVYIFT9lI"
      },
      "source": [
        "# TP1"
      ]
    },
    {
      "cell_type": "markdown",
      "metadata": {
        "id": "MZqz67tPVuhf"
      },
      "source": [
        "## Datos Grupo"
      ]
    },
    {
      "cell_type": "markdown",
      "metadata": {
        "id": "LLj2D9qfWOtC"
      },
      "source": [
        "### Link Github Repository"
      ]
    },
    {
      "cell_type": "markdown",
      "metadata": {
        "id": "A50aT85bWTRf"
      },
      "source": [
        "[Github](https://github.com/juanicolombo97/TP1-OrganizacionDatos)"
      ]
    },
    {
      "cell_type": "markdown",
      "metadata": {
        "id": "hseSdPiVVxAj"
      },
      "source": [
        "### Juan Ignacio Colombo\n"
      ]
    },
    {
      "cell_type": "markdown",
      "metadata": {
        "id": "vcPszBVyV-wO"
      },
      "source": [
        "Padron: 103471\n",
        "\n",
        "\n",
        "Mail: jcolombo@fi.uba.ar"
      ]
    },
    {
      "cell_type": "markdown",
      "metadata": {
        "id": "VxPwabjaUC_m"
      },
      "source": [
        "## Imports"
      ]
    },
    {
      "cell_type": "code",
      "metadata": {
        "id": "FZrgUlBGQwb2"
      },
      "source": [
        "# Import pandas.\n",
        "\n",
        "import pandas as pd\n",
        "import seaborn as sns\n"
      ],
      "execution_count": null,
      "outputs": []
    },
    {
      "cell_type": "code",
      "metadata": {
        "id": "Y3oK5f6QVqGc",
        "colab": {
          "base_uri": "https://localhost:8080/"
        },
        "outputId": "578febc9-7a1b-4fd2-841c-9c7ef3e184f8"
      },
      "source": [
        "# Import files from drive.\n",
        "\n",
        "from google.colab import drive\n",
        "drive.mount('/content/gdrive')"
      ],
      "execution_count": null,
      "outputs": [
        {
          "output_type": "stream",
          "text": [
            "Mounted at /content/gdrive\n"
          ],
          "name": "stdout"
        }
      ]
    },
    {
      "cell_type": "code",
      "metadata": {
        "id": "JoqputPHXOQi"
      },
      "source": [
        "# Import datasets.\n",
        "\n",
        "train_labels_dataset = pd.read_csv(\"/content/gdrive/MyDrive/1C-2021/Datos/TP1/Datasets/train_labels.csv\")\n",
        "train_values_dataset = pd.read_csv(\"/content/gdrive/MyDrive/1C-2021/Datos/TP1/Datasets/train_values.csv\")\n"
      ],
      "execution_count": null,
      "outputs": []
    },
    {
      "cell_type": "markdown",
      "metadata": {
        "id": "xWrFA5D9XHYP"
      },
      "source": [
        "## Analisis Exploratorio"
      ]
    },
    {
      "cell_type": "markdown",
      "metadata": {
        "id": "QPxSw4dl3Cy_"
      },
      "source": [
        "### Analisis inicial.\n"
      ]
    },
    {
      "cell_type": "code",
      "metadata": {
        "id": "EmLZa5c-XKU_",
        "colab": {
          "base_uri": "https://localhost:8080/",
          "height": 197
        },
        "outputId": "147383ac-08d0-495b-a230-79d0af497e52"
      },
      "source": [
        "train_labels_dataset.head(5)"
      ],
      "execution_count": null,
      "outputs": [
        {
          "output_type": "execute_result",
          "data": {
            "text/html": [
              "<div>\n",
              "<style scoped>\n",
              "    .dataframe tbody tr th:only-of-type {\n",
              "        vertical-align: middle;\n",
              "    }\n",
              "\n",
              "    .dataframe tbody tr th {\n",
              "        vertical-align: top;\n",
              "    }\n",
              "\n",
              "    .dataframe thead th {\n",
              "        text-align: right;\n",
              "    }\n",
              "</style>\n",
              "<table border=\"1\" class=\"dataframe\">\n",
              "  <thead>\n",
              "    <tr style=\"text-align: right;\">\n",
              "      <th></th>\n",
              "      <th>building_id</th>\n",
              "      <th>damage_grade</th>\n",
              "    </tr>\n",
              "  </thead>\n",
              "  <tbody>\n",
              "    <tr>\n",
              "      <th>0</th>\n",
              "      <td>802906</td>\n",
              "      <td>3</td>\n",
              "    </tr>\n",
              "    <tr>\n",
              "      <th>1</th>\n",
              "      <td>28830</td>\n",
              "      <td>2</td>\n",
              "    </tr>\n",
              "    <tr>\n",
              "      <th>2</th>\n",
              "      <td>94947</td>\n",
              "      <td>3</td>\n",
              "    </tr>\n",
              "    <tr>\n",
              "      <th>3</th>\n",
              "      <td>590882</td>\n",
              "      <td>2</td>\n",
              "    </tr>\n",
              "    <tr>\n",
              "      <th>4</th>\n",
              "      <td>201944</td>\n",
              "      <td>3</td>\n",
              "    </tr>\n",
              "  </tbody>\n",
              "</table>\n",
              "</div>"
            ],
            "text/plain": [
              "   building_id  damage_grade\n",
              "0       802906             3\n",
              "1        28830             2\n",
              "2        94947             3\n",
              "3       590882             2\n",
              "4       201944             3"
            ]
          },
          "metadata": {
            "tags": []
          },
          "execution_count": 5
        }
      ]
    },
    {
      "cell_type": "code",
      "metadata": {
        "id": "40XkliA-XqBY",
        "colab": {
          "base_uri": "https://localhost:8080/",
          "height": 217
        },
        "outputId": "c9966900-5b6f-402f-ee81-730fb743d4c9"
      },
      "source": [
        "train_values_dataset.head(5)"
      ],
      "execution_count": null,
      "outputs": [
        {
          "output_type": "execute_result",
          "data": {
            "text/html": [
              "<div>\n",
              "<style scoped>\n",
              "    .dataframe tbody tr th:only-of-type {\n",
              "        vertical-align: middle;\n",
              "    }\n",
              "\n",
              "    .dataframe tbody tr th {\n",
              "        vertical-align: top;\n",
              "    }\n",
              "\n",
              "    .dataframe thead th {\n",
              "        text-align: right;\n",
              "    }\n",
              "</style>\n",
              "<table border=\"1\" class=\"dataframe\">\n",
              "  <thead>\n",
              "    <tr style=\"text-align: right;\">\n",
              "      <th></th>\n",
              "      <th>building_id</th>\n",
              "      <th>geo_level_1_id</th>\n",
              "      <th>geo_level_2_id</th>\n",
              "      <th>geo_level_3_id</th>\n",
              "      <th>count_floors_pre_eq</th>\n",
              "      <th>age</th>\n",
              "      <th>area_percentage</th>\n",
              "      <th>height_percentage</th>\n",
              "      <th>land_surface_condition</th>\n",
              "      <th>foundation_type</th>\n",
              "      <th>roof_type</th>\n",
              "      <th>ground_floor_type</th>\n",
              "      <th>other_floor_type</th>\n",
              "      <th>position</th>\n",
              "      <th>plan_configuration</th>\n",
              "      <th>has_superstructure_adobe_mud</th>\n",
              "      <th>has_superstructure_mud_mortar_stone</th>\n",
              "      <th>has_superstructure_stone_flag</th>\n",
              "      <th>has_superstructure_cement_mortar_stone</th>\n",
              "      <th>has_superstructure_mud_mortar_brick</th>\n",
              "      <th>has_superstructure_cement_mortar_brick</th>\n",
              "      <th>has_superstructure_timber</th>\n",
              "      <th>has_superstructure_bamboo</th>\n",
              "      <th>has_superstructure_rc_non_engineered</th>\n",
              "      <th>has_superstructure_rc_engineered</th>\n",
              "      <th>has_superstructure_other</th>\n",
              "      <th>legal_ownership_status</th>\n",
              "      <th>count_families</th>\n",
              "      <th>has_secondary_use</th>\n",
              "      <th>has_secondary_use_agriculture</th>\n",
              "      <th>has_secondary_use_hotel</th>\n",
              "      <th>has_secondary_use_rental</th>\n",
              "      <th>has_secondary_use_institution</th>\n",
              "      <th>has_secondary_use_school</th>\n",
              "      <th>has_secondary_use_industry</th>\n",
              "      <th>has_secondary_use_health_post</th>\n",
              "      <th>has_secondary_use_gov_office</th>\n",
              "      <th>has_secondary_use_use_police</th>\n",
              "      <th>has_secondary_use_other</th>\n",
              "    </tr>\n",
              "  </thead>\n",
              "  <tbody>\n",
              "    <tr>\n",
              "      <th>0</th>\n",
              "      <td>802906</td>\n",
              "      <td>6</td>\n",
              "      <td>487</td>\n",
              "      <td>12198</td>\n",
              "      <td>2</td>\n",
              "      <td>30</td>\n",
              "      <td>6</td>\n",
              "      <td>5</td>\n",
              "      <td>t</td>\n",
              "      <td>r</td>\n",
              "      <td>n</td>\n",
              "      <td>f</td>\n",
              "      <td>q</td>\n",
              "      <td>t</td>\n",
              "      <td>d</td>\n",
              "      <td>1</td>\n",
              "      <td>1</td>\n",
              "      <td>0</td>\n",
              "      <td>0</td>\n",
              "      <td>0</td>\n",
              "      <td>0</td>\n",
              "      <td>0</td>\n",
              "      <td>0</td>\n",
              "      <td>0</td>\n",
              "      <td>0</td>\n",
              "      <td>0</td>\n",
              "      <td>v</td>\n",
              "      <td>1</td>\n",
              "      <td>0</td>\n",
              "      <td>0</td>\n",
              "      <td>0</td>\n",
              "      <td>0</td>\n",
              "      <td>0</td>\n",
              "      <td>0</td>\n",
              "      <td>0</td>\n",
              "      <td>0</td>\n",
              "      <td>0</td>\n",
              "      <td>0</td>\n",
              "      <td>0</td>\n",
              "    </tr>\n",
              "    <tr>\n",
              "      <th>1</th>\n",
              "      <td>28830</td>\n",
              "      <td>8</td>\n",
              "      <td>900</td>\n",
              "      <td>2812</td>\n",
              "      <td>2</td>\n",
              "      <td>10</td>\n",
              "      <td>8</td>\n",
              "      <td>7</td>\n",
              "      <td>o</td>\n",
              "      <td>r</td>\n",
              "      <td>n</td>\n",
              "      <td>x</td>\n",
              "      <td>q</td>\n",
              "      <td>s</td>\n",
              "      <td>d</td>\n",
              "      <td>0</td>\n",
              "      <td>1</td>\n",
              "      <td>0</td>\n",
              "      <td>0</td>\n",
              "      <td>0</td>\n",
              "      <td>0</td>\n",
              "      <td>0</td>\n",
              "      <td>0</td>\n",
              "      <td>0</td>\n",
              "      <td>0</td>\n",
              "      <td>0</td>\n",
              "      <td>v</td>\n",
              "      <td>1</td>\n",
              "      <td>0</td>\n",
              "      <td>0</td>\n",
              "      <td>0</td>\n",
              "      <td>0</td>\n",
              "      <td>0</td>\n",
              "      <td>0</td>\n",
              "      <td>0</td>\n",
              "      <td>0</td>\n",
              "      <td>0</td>\n",
              "      <td>0</td>\n",
              "      <td>0</td>\n",
              "    </tr>\n",
              "    <tr>\n",
              "      <th>2</th>\n",
              "      <td>94947</td>\n",
              "      <td>21</td>\n",
              "      <td>363</td>\n",
              "      <td>8973</td>\n",
              "      <td>2</td>\n",
              "      <td>10</td>\n",
              "      <td>5</td>\n",
              "      <td>5</td>\n",
              "      <td>t</td>\n",
              "      <td>r</td>\n",
              "      <td>n</td>\n",
              "      <td>f</td>\n",
              "      <td>x</td>\n",
              "      <td>t</td>\n",
              "      <td>d</td>\n",
              "      <td>0</td>\n",
              "      <td>1</td>\n",
              "      <td>0</td>\n",
              "      <td>0</td>\n",
              "      <td>0</td>\n",
              "      <td>0</td>\n",
              "      <td>0</td>\n",
              "      <td>0</td>\n",
              "      <td>0</td>\n",
              "      <td>0</td>\n",
              "      <td>0</td>\n",
              "      <td>v</td>\n",
              "      <td>1</td>\n",
              "      <td>0</td>\n",
              "      <td>0</td>\n",
              "      <td>0</td>\n",
              "      <td>0</td>\n",
              "      <td>0</td>\n",
              "      <td>0</td>\n",
              "      <td>0</td>\n",
              "      <td>0</td>\n",
              "      <td>0</td>\n",
              "      <td>0</td>\n",
              "      <td>0</td>\n",
              "    </tr>\n",
              "    <tr>\n",
              "      <th>3</th>\n",
              "      <td>590882</td>\n",
              "      <td>22</td>\n",
              "      <td>418</td>\n",
              "      <td>10694</td>\n",
              "      <td>2</td>\n",
              "      <td>10</td>\n",
              "      <td>6</td>\n",
              "      <td>5</td>\n",
              "      <td>t</td>\n",
              "      <td>r</td>\n",
              "      <td>n</td>\n",
              "      <td>f</td>\n",
              "      <td>x</td>\n",
              "      <td>s</td>\n",
              "      <td>d</td>\n",
              "      <td>0</td>\n",
              "      <td>1</td>\n",
              "      <td>0</td>\n",
              "      <td>0</td>\n",
              "      <td>0</td>\n",
              "      <td>0</td>\n",
              "      <td>1</td>\n",
              "      <td>1</td>\n",
              "      <td>0</td>\n",
              "      <td>0</td>\n",
              "      <td>0</td>\n",
              "      <td>v</td>\n",
              "      <td>1</td>\n",
              "      <td>0</td>\n",
              "      <td>0</td>\n",
              "      <td>0</td>\n",
              "      <td>0</td>\n",
              "      <td>0</td>\n",
              "      <td>0</td>\n",
              "      <td>0</td>\n",
              "      <td>0</td>\n",
              "      <td>0</td>\n",
              "      <td>0</td>\n",
              "      <td>0</td>\n",
              "    </tr>\n",
              "    <tr>\n",
              "      <th>4</th>\n",
              "      <td>201944</td>\n",
              "      <td>11</td>\n",
              "      <td>131</td>\n",
              "      <td>1488</td>\n",
              "      <td>3</td>\n",
              "      <td>30</td>\n",
              "      <td>8</td>\n",
              "      <td>9</td>\n",
              "      <td>t</td>\n",
              "      <td>r</td>\n",
              "      <td>n</td>\n",
              "      <td>f</td>\n",
              "      <td>x</td>\n",
              "      <td>s</td>\n",
              "      <td>d</td>\n",
              "      <td>1</td>\n",
              "      <td>0</td>\n",
              "      <td>0</td>\n",
              "      <td>0</td>\n",
              "      <td>0</td>\n",
              "      <td>0</td>\n",
              "      <td>0</td>\n",
              "      <td>0</td>\n",
              "      <td>0</td>\n",
              "      <td>0</td>\n",
              "      <td>0</td>\n",
              "      <td>v</td>\n",
              "      <td>1</td>\n",
              "      <td>0</td>\n",
              "      <td>0</td>\n",
              "      <td>0</td>\n",
              "      <td>0</td>\n",
              "      <td>0</td>\n",
              "      <td>0</td>\n",
              "      <td>0</td>\n",
              "      <td>0</td>\n",
              "      <td>0</td>\n",
              "      <td>0</td>\n",
              "      <td>0</td>\n",
              "    </tr>\n",
              "  </tbody>\n",
              "</table>\n",
              "</div>"
            ],
            "text/plain": [
              "   building_id  ...  has_secondary_use_other\n",
              "0       802906  ...                        0\n",
              "1        28830  ...                        0\n",
              "2        94947  ...                        0\n",
              "3       590882  ...                        0\n",
              "4       201944  ...                        0\n",
              "\n",
              "[5 rows x 39 columns]"
            ]
          },
          "metadata": {
            "tags": []
          },
          "execution_count": 6
        }
      ]
    },
    {
      "cell_type": "code",
      "metadata": {
        "id": "YvPlw_-eCHE9",
        "colab": {
          "base_uri": "https://localhost:8080/"
        },
        "outputId": "09ccaf45-afa9-4743-83d6-938e4853257f"
      },
      "source": [
        "# Analizo segun año.\n",
        "train_values_dataset.info()"
      ],
      "execution_count": 230,
      "outputs": [
        {
          "output_type": "stream",
          "text": [
            "<class 'pandas.core.frame.DataFrame'>\n",
            "RangeIndex: 260601 entries, 0 to 260600\n",
            "Data columns (total 39 columns):\n",
            " #   Column                                  Non-Null Count   Dtype \n",
            "---  ------                                  --------------   ----- \n",
            " 0   building_id                             260601 non-null  int64 \n",
            " 1   geo_level_1_id                          260601 non-null  int64 \n",
            " 2   geo_level_2_id                          260601 non-null  int64 \n",
            " 3   geo_level_3_id                          260601 non-null  int64 \n",
            " 4   count_floors_pre_eq                     260601 non-null  int64 \n",
            " 5   age                                     260601 non-null  int64 \n",
            " 6   area_percentage                         260601 non-null  int64 \n",
            " 7   height_percentage                       260601 non-null  int64 \n",
            " 8   land_surface_condition                  260601 non-null  object\n",
            " 9   foundation_type                         260601 non-null  object\n",
            " 10  roof_type                               260601 non-null  object\n",
            " 11  ground_floor_type                       260601 non-null  object\n",
            " 12  other_floor_type                        260601 non-null  object\n",
            " 13  position                                260601 non-null  object\n",
            " 14  plan_configuration                      260601 non-null  object\n",
            " 15  has_superstructure_adobe_mud            260601 non-null  int64 \n",
            " 16  has_superstructure_mud_mortar_stone     260601 non-null  int64 \n",
            " 17  has_superstructure_stone_flag           260601 non-null  int64 \n",
            " 18  has_superstructure_cement_mortar_stone  260601 non-null  int64 \n",
            " 19  has_superstructure_mud_mortar_brick     260601 non-null  int64 \n",
            " 20  has_superstructure_cement_mortar_brick  260601 non-null  int64 \n",
            " 21  has_superstructure_timber               260601 non-null  int64 \n",
            " 22  has_superstructure_bamboo               260601 non-null  int64 \n",
            " 23  has_superstructure_rc_non_engineered    260601 non-null  int64 \n",
            " 24  has_superstructure_rc_engineered        260601 non-null  int64 \n",
            " 25  has_superstructure_other                260601 non-null  int64 \n",
            " 26  legal_ownership_status                  260601 non-null  object\n",
            " 27  count_families                          260601 non-null  int64 \n",
            " 28  has_secondary_use                       260601 non-null  int64 \n",
            " 29  has_secondary_use_agriculture           260601 non-null  int64 \n",
            " 30  has_secondary_use_hotel                 260601 non-null  int64 \n",
            " 31  has_secondary_use_rental                260601 non-null  int64 \n",
            " 32  has_secondary_use_institution           260601 non-null  int64 \n",
            " 33  has_secondary_use_school                260601 non-null  int64 \n",
            " 34  has_secondary_use_industry              260601 non-null  int64 \n",
            " 35  has_secondary_use_health_post           260601 non-null  int64 \n",
            " 36  has_secondary_use_gov_office            260601 non-null  int64 \n",
            " 37  has_secondary_use_use_police            260601 non-null  int64 \n",
            " 38  has_secondary_use_other                 260601 non-null  int64 \n",
            "dtypes: int64(31), object(8)\n",
            "memory usage: 77.5+ MB\n"
          ],
          "name": "stdout"
        }
      ]
    },
    {
      "cell_type": "markdown",
      "metadata": {
        "id": "mlUPWgqw2-Pl"
      },
      "source": [
        "### Manejo Nulos y Nan."
      ]
    },
    {
      "cell_type": "code",
      "metadata": {
        "colab": {
          "base_uri": "https://localhost:8080/"
        },
        "id": "r9WJHdoq23-D",
        "outputId": "8ebe8930-61ea-4973-9174-db168f12e879"
      },
      "source": [
        "cantidad_edificios = train_values_dataset[\"building_id\"].count()\n",
        "cantidad_edificios"
      ],
      "execution_count": 233,
      "outputs": [
        {
          "output_type": "execute_result",
          "data": {
            "text/plain": [
              "260601"
            ]
          },
          "metadata": {
            "tags": []
          },
          "execution_count": 233
        }
      ]
    },
    {
      "cell_type": "code",
      "metadata": {
        "colab": {
          "base_uri": "https://localhost:8080/"
        },
        "id": "G8IIIcHL3Gke",
        "outputId": "a7a6fd04-950b-4156-c0cb-dd9abaf9f7fd"
      },
      "source": [
        "# Cantidad de nulos por columna.\n",
        "train_values_dataset.isnull().sum()"
      ],
      "execution_count": 237,
      "outputs": [
        {
          "output_type": "execute_result",
          "data": {
            "text/plain": [
              "building_id                               0\n",
              "geo_level_1_id                            0\n",
              "geo_level_2_id                            0\n",
              "geo_level_3_id                            0\n",
              "count_floors_pre_eq                       0\n",
              "age                                       0\n",
              "area_percentage                           0\n",
              "height_percentage                         0\n",
              "land_surface_condition                    0\n",
              "foundation_type                           0\n",
              "roof_type                                 0\n",
              "ground_floor_type                         0\n",
              "other_floor_type                          0\n",
              "position                                  0\n",
              "plan_configuration                        0\n",
              "has_superstructure_adobe_mud              0\n",
              "has_superstructure_mud_mortar_stone       0\n",
              "has_superstructure_stone_flag             0\n",
              "has_superstructure_cement_mortar_stone    0\n",
              "has_superstructure_mud_mortar_brick       0\n",
              "has_superstructure_cement_mortar_brick    0\n",
              "has_superstructure_timber                 0\n",
              "has_superstructure_bamboo                 0\n",
              "has_superstructure_rc_non_engineered      0\n",
              "has_superstructure_rc_engineered          0\n",
              "has_superstructure_other                  0\n",
              "legal_ownership_status                    0\n",
              "count_families                            0\n",
              "has_secondary_use                         0\n",
              "has_secondary_use_agriculture             0\n",
              "has_secondary_use_hotel                   0\n",
              "has_secondary_use_rental                  0\n",
              "has_secondary_use_institution             0\n",
              "has_secondary_use_school                  0\n",
              "has_secondary_use_industry                0\n",
              "has_secondary_use_health_post             0\n",
              "has_secondary_use_gov_office              0\n",
              "has_secondary_use_use_police              0\n",
              "has_secondary_use_other                   0\n",
              "dtype: int64"
            ]
          },
          "metadata": {
            "tags": []
          },
          "execution_count": 237
        }
      ]
    },
    {
      "cell_type": "code",
      "metadata": {
        "colab": {
          "base_uri": "https://localhost:8080/"
        },
        "id": "tRJCFxZm3fsr",
        "outputId": "3942128e-dc9c-4cb7-98c9-b0fad22bf0b3"
      },
      "source": [
        "# Cantidad de Nan por columna.\n",
        "train_values_dataset.isna().sum()"
      ],
      "execution_count": 238,
      "outputs": [
        {
          "output_type": "execute_result",
          "data": {
            "text/plain": [
              "building_id                               0\n",
              "geo_level_1_id                            0\n",
              "geo_level_2_id                            0\n",
              "geo_level_3_id                            0\n",
              "count_floors_pre_eq                       0\n",
              "age                                       0\n",
              "area_percentage                           0\n",
              "height_percentage                         0\n",
              "land_surface_condition                    0\n",
              "foundation_type                           0\n",
              "roof_type                                 0\n",
              "ground_floor_type                         0\n",
              "other_floor_type                          0\n",
              "position                                  0\n",
              "plan_configuration                        0\n",
              "has_superstructure_adobe_mud              0\n",
              "has_superstructure_mud_mortar_stone       0\n",
              "has_superstructure_stone_flag             0\n",
              "has_superstructure_cement_mortar_stone    0\n",
              "has_superstructure_mud_mortar_brick       0\n",
              "has_superstructure_cement_mortar_brick    0\n",
              "has_superstructure_timber                 0\n",
              "has_superstructure_bamboo                 0\n",
              "has_superstructure_rc_non_engineered      0\n",
              "has_superstructure_rc_engineered          0\n",
              "has_superstructure_other                  0\n",
              "legal_ownership_status                    0\n",
              "count_families                            0\n",
              "has_secondary_use                         0\n",
              "has_secondary_use_agriculture             0\n",
              "has_secondary_use_hotel                   0\n",
              "has_secondary_use_rental                  0\n",
              "has_secondary_use_institution             0\n",
              "has_secondary_use_school                  0\n",
              "has_secondary_use_industry                0\n",
              "has_secondary_use_health_post             0\n",
              "has_secondary_use_gov_office              0\n",
              "has_secondary_use_use_police              0\n",
              "has_secondary_use_other                   0\n",
              "dtype: int64"
            ]
          },
          "metadata": {
            "tags": []
          },
          "execution_count": 238
        }
      ]
    },
    {
      "cell_type": "markdown",
      "metadata": {
        "id": "X-B-dqXv3lyY"
      },
      "source": [
        "### Porcentaje datos validos."
      ]
    },
    {
      "cell_type": "code",
      "metadata": {
        "id": "7nmyBA-z3pq4"
      },
      "source": [
        "datos_validos = train_values_dataset.count().reset_index()\n",
        "datos_validos[\"Porcentaje_datos_validos\"] = (cantidad_edificios / datos_validos[0]) * 100\n",
        "datos_validos_por_columna = datos_validos[[\"index\",\"Porcentaje_datos_validos\"]]\n",
        "datos_validos_por_columna.to_csv(\"/content/gdrive/MyDrive/1C-2021/Datos/TP1/CSVS/datos_validos_por_columna.csv\")"
      ],
      "execution_count": 252,
      "outputs": []
    },
    {
      "cell_type": "markdown",
      "metadata": {
        "id": "5TyemhEC5uoC"
      },
      "source": [
        "### Analisis Segun Edad"
      ]
    },
    {
      "cell_type": "markdown",
      "metadata": {
        "id": "hfNnyL5R_bER"
      },
      "source": [
        "#### Filtrado datos y merge."
      ]
    },
    {
      "cell_type": "code",
      "metadata": {
        "colab": {
          "base_uri": "https://localhost:8080/",
          "height": 76
        },
        "id": "lhRFPSn650n8",
        "outputId": "969335f7-2426-42b2-e88c-826e1de1d0f2"
      },
      "source": [
        "datos_edad = train_values_dataset[[\"building_id\", \"age\"]]\n",
        "datos_edad_merged = pd.merge(left=datos_edad, right=train_labels_dataset, how=\"inner\", on=\"building_id\")\n",
        "datos_edad_filtrados = datos_edad_merged[[\"damage_grade\", \"age\"]]\n",
        "datos_edad_filtrados.head(1)"
      ],
      "execution_count": 272,
      "outputs": [
        {
          "output_type": "execute_result",
          "data": {
            "text/html": [
              "<div>\n",
              "<style scoped>\n",
              "    .dataframe tbody tr th:only-of-type {\n",
              "        vertical-align: middle;\n",
              "    }\n",
              "\n",
              "    .dataframe tbody tr th {\n",
              "        vertical-align: top;\n",
              "    }\n",
              "\n",
              "    .dataframe thead th {\n",
              "        text-align: right;\n",
              "    }\n",
              "</style>\n",
              "<table border=\"1\" class=\"dataframe\">\n",
              "  <thead>\n",
              "    <tr style=\"text-align: right;\">\n",
              "      <th></th>\n",
              "      <th>damage_grade</th>\n",
              "      <th>age</th>\n",
              "    </tr>\n",
              "  </thead>\n",
              "  <tbody>\n",
              "    <tr>\n",
              "      <th>0</th>\n",
              "      <td>3</td>\n",
              "      <td>30</td>\n",
              "    </tr>\n",
              "  </tbody>\n",
              "</table>\n",
              "</div>"
            ],
            "text/plain": [
              "   damage_grade  age\n",
              "0             3   30"
            ]
          },
          "metadata": {
            "tags": []
          },
          "execution_count": 272
        }
      ]
    },
    {
      "cell_type": "markdown",
      "metadata": {
        "id": "n8OiWAp76eYB"
      },
      "source": [
        "#### Edades comparadas a promedio segun damage_grade."
      ]
    },
    {
      "cell_type": "code",
      "metadata": {
        "id": "YFbOp2SA6iHG"
      },
      "source": [
        "datos_promedio = datos_edad_filtrados\n",
        "datos_promedio[\"Supera_Promedio_Edad\"] = datos_promedio[\"age\"] > datos_promedio[\"age\"].mean()\n",
        "datos_promedio[\"Debajo_Promedio_Edad\"] = datos_promedio[\"age\"] <= datos_promedio[\"age\"].mean()\n",
        "datos_promedio_final = datos_promedio.groupby(\"damage_grade\").agg({\"Supera_Promedio_Edad\": \"count\", \"Debajo_Promedio_Edad\": \"count\"}).reset_index()\n",
        "datos_promedio_final.to_csv(\"/content/gdrive/MyDrive/1C-2021/Datos/TP1/CSVS/datos_promedio_final.csv\") "
      ],
      "execution_count": 285,
      "outputs": []
    },
    {
      "cell_type": "markdown",
      "metadata": {
        "id": "wn_vojIh7tZp"
      },
      "source": [
        "#### Rango edades segun damage_grade."
      ]
    },
    {
      "cell_type": "code",
      "metadata": {
        "id": "FxOBZddz7r46"
      },
      "source": [
        "# Obtengo los rangos de edad segun el damage grade, para edificios entre 0 a 100 anios.\n",
        "datos_rangos = datos_edad_filtrados\n",
        "datos_rangos[\"Damage_3\"] = datos_rangos[\"damage_grade\"] == 3\n",
        "datos_rangos[\"Damage_2\"] = datos_rangos[\"damage_grade\"] == 2\n",
        "datos_rangos[\"Damage_1\"] = datos_rangos[\"damage_grade\"] == 1\n",
        "datos_rangos_final = datos_rangos.groupby(\"age\").agg({\"Damage_3\" : \"sum\", \"Damage_2\" : \"sum\", \"Damage_1\" : \"sum\"}).reset_index()\n",
        "datos_rangos_edad_menor_100 = datos_rangos_final[datos_rangos_final[\"age\"] < 100]\n",
        "datos_rangos_edad_menor_100.to_csv(\"/content/gdrive/MyDrive/1C-2021/Datos/TP1/CSVS/datos_rangos_edad_menor_100.csv\") "
      ],
      "execution_count": 284,
      "outputs": []
    }
  ]
}