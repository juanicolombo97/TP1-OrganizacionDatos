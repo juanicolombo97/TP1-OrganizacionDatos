{
  "nbformat": 4,
  "nbformat_minor": 0,
  "metadata": {
    "colab": {
      "name": "TP1.ipynb",
      "provenance": [],
      "collapsed_sections": [],
      "authorship_tag": "ABX9TyPIE15G1Xk676fSB0QQZbvr",
      "include_colab_link": true
    },
    "kernelspec": {
      "name": "python3",
      "display_name": "Python 3"
    },
    "language_info": {
      "name": "python"
    }
  },
  "cells": [
    {
      "cell_type": "markdown",
      "metadata": {
        "id": "view-in-github",
        "colab_type": "text"
      },
      "source": [
        "<a href=\"https://colab.research.google.com/github/juanicolombo97/TP1-OrganizacionDatos/blob/main/TP1.ipynb\" target=\"_parent\"><img src=\"https://colab.research.google.com/assets/colab-badge.svg\" alt=\"Open In Colab\"/></a>"
      ]
    },
    {
      "cell_type": "markdown",
      "metadata": {
        "id": "wo1fVYIFT9lI"
      },
      "source": [
        "# TP1"
      ]
    },
    {
      "cell_type": "markdown",
      "metadata": {
        "id": "VxPwabjaUC_m"
      },
      "source": [
        "## Imports"
      ]
    },
    {
      "cell_type": "code",
      "metadata": {
        "id": "FZrgUlBGQwb2"
      },
      "source": [
        "#Import pandas\n",
        "import pandas as pd\n",
        "\n",
        "#"
      ],
      "execution_count": null,
      "outputs": []
    }
  ]
}