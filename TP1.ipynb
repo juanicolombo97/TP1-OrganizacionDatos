{
  "nbformat": 4,
  "nbformat_minor": 0,
  "metadata": {
    "colab": {
      "name": "TP1.ipynb",
      "provenance": [],
      "collapsed_sections": [],
      "include_colab_link": true
    },
    "kernelspec": {
      "name": "python3",
      "display_name": "Python 3"
    },
    "language_info": {
      "name": "python"
    }
  },
  "cells": [
    {
      "cell_type": "markdown",
      "metadata": {
        "id": "view-in-github",
        "colab_type": "text"
      },
      "source": [
        "<a href=\"https://colab.research.google.com/github/juanicolombo97/TP1-OrganizacionDatos/blob/main/TP1.ipynb\" target=\"_parent\"><img src=\"https://colab.research.google.com/assets/colab-badge.svg\" alt=\"Open In Colab\"/></a>"
      ]
    },
    {
      "cell_type": "markdown",
      "metadata": {
        "id": "wo1fVYIFT9lI"
      },
      "source": [
        "# TP1"
      ]
    },
    {
      "cell_type": "markdown",
      "metadata": {
        "id": "MZqz67tPVuhf"
      },
      "source": [
        "## Datos Grupo"
      ]
    },
    {
      "cell_type": "markdown",
      "metadata": {
        "id": "LLj2D9qfWOtC"
      },
      "source": [
        "### Link Github Repository"
      ]
    },
    {
      "cell_type": "markdown",
      "metadata": {
        "id": "A50aT85bWTRf"
      },
      "source": [
        "[Github](https://github.com/juanicolombo97/TP1-OrganizacionDatos)"
      ]
    },
    {
      "cell_type": "markdown",
      "metadata": {
        "id": "hseSdPiVVxAj"
      },
      "source": [
        "### Juan Ignacio Colombo\n"
      ]
    },
    {
      "cell_type": "markdown",
      "metadata": {
        "id": "vcPszBVyV-wO"
      },
      "source": [
        "Padron: 103471\n",
        "\n",
        "\n",
        "Mail: jcolombo@fi.uba.ar"
      ]
    },
    {
      "cell_type": "markdown",
      "metadata": {
        "id": "VxPwabjaUC_m"
      },
      "source": [
        "## Imports"
      ]
    },
    {
      "cell_type": "code",
      "metadata": {
        "id": "FZrgUlBGQwb2"
      },
      "source": [
        "# Import pandas.\n",
        "\n",
        "import pandas as pd\n",
        "import seaborn as sns\n",
        "import matplotlib.pyplot as plt\n"
      ],
      "execution_count": 1,
      "outputs": []
    },
    {
      "cell_type": "code",
      "metadata": {
        "id": "Y3oK5f6QVqGc"
      },
      "source": [
        "# Import files from drive.\n",
        "\n",
        "# from google.colab import drive\n",
        "# drive.mount('/content/gdrive')\n",
        "\n",
        "from pydrive.auth import GoogleAuth\n",
        "from pydrive.drive import GoogleDrive\n",
        "from google.colab import auth\n",
        "from oauth2client.client import GoogleCredentials"
      ],
      "execution_count": 2,
      "outputs": []
    },
    {
      "cell_type": "code",
      "metadata": {
        "id": "BzYxwmlvxAcb"
      },
      "source": [
        "auth.authenticate_user()\n",
        "gauth = GoogleAuth()\n",
        "gauth.credentials = GoogleCredentials.get_application_default()\n",
        "drive = GoogleDrive(gauth)"
      ],
      "execution_count": 3,
      "outputs": []
    },
    {
      "cell_type": "code",
      "metadata": {
        "id": "JoqputPHXOQi"
      },
      "source": [
        "# Import datasets.\n",
        "dataset_labels = drive.CreateFile({'id': '1BFMOae6_mh0FAADOEAmMgKEyxVLnyLx-'})\n",
        "dataset_labels.GetContentFile('labels.csv')"
      ],
      "execution_count": 4,
      "outputs": []
    },
    {
      "cell_type": "code",
      "metadata": {
        "id": "Wqr84s4YzA4d"
      },
      "source": [
        "dataset_values = drive.CreateFile({'id': '1H-6GzuPgEkHrJuA0ZN932tyAynasX231'})\n",
        "dataset_values.GetContentFile('values.csv')"
      ],
      "execution_count": 5,
      "outputs": []
    },
    {
      "cell_type": "code",
      "metadata": {
        "id": "VlcqXV5yzBlA"
      },
      "source": [
        "train_labels_dataset = pd.read_csv(\"labels.csv\")\n",
        "train_values_dataset = pd.read_csv(\"values.csv\")"
      ],
      "execution_count": 6,
      "outputs": []
    },
    {
      "cell_type": "markdown",
      "metadata": {
        "id": "xWrFA5D9XHYP"
      },
      "source": [
        "## Analisis Exploratorio"
      ]
    },
    {
      "cell_type": "markdown",
      "metadata": {
        "id": "QPxSw4dl3Cy_"
      },
      "source": [
        "### Analisis inicial.\n"
      ]
    },
    {
      "cell_type": "code",
      "metadata": {
        "id": "EmLZa5c-XKU_",
        "colab": {
          "base_uri": "https://localhost:8080/",
          "height": 191
        },
        "outputId": "f67b7ac6-1f74-48cf-be45-e732c21c89d4"
      },
      "source": [
        "train_labels_dataset.head(5)"
      ],
      "execution_count": 7,
      "outputs": [
        {
          "output_type": "execute_result",
          "data": {
            "text/html": [
              "<div>\n",
              "<style scoped>\n",
              "    .dataframe tbody tr th:only-of-type {\n",
              "        vertical-align: middle;\n",
              "    }\n",
              "\n",
              "    .dataframe tbody tr th {\n",
              "        vertical-align: top;\n",
              "    }\n",
              "\n",
              "    .dataframe thead th {\n",
              "        text-align: right;\n",
              "    }\n",
              "</style>\n",
              "<table border=\"1\" class=\"dataframe\">\n",
              "  <thead>\n",
              "    <tr style=\"text-align: right;\">\n",
              "      <th></th>\n",
              "      <th>building_id</th>\n",
              "      <th>damage_grade</th>\n",
              "    </tr>\n",
              "  </thead>\n",
              "  <tbody>\n",
              "    <tr>\n",
              "      <th>0</th>\n",
              "      <td>802906</td>\n",
              "      <td>3</td>\n",
              "    </tr>\n",
              "    <tr>\n",
              "      <th>1</th>\n",
              "      <td>28830</td>\n",
              "      <td>2</td>\n",
              "    </tr>\n",
              "    <tr>\n",
              "      <th>2</th>\n",
              "      <td>94947</td>\n",
              "      <td>3</td>\n",
              "    </tr>\n",
              "    <tr>\n",
              "      <th>3</th>\n",
              "      <td>590882</td>\n",
              "      <td>2</td>\n",
              "    </tr>\n",
              "    <tr>\n",
              "      <th>4</th>\n",
              "      <td>201944</td>\n",
              "      <td>3</td>\n",
              "    </tr>\n",
              "  </tbody>\n",
              "</table>\n",
              "</div>"
            ],
            "text/plain": [
              "   building_id  damage_grade\n",
              "0       802906             3\n",
              "1        28830             2\n",
              "2        94947             3\n",
              "3       590882             2\n",
              "4       201944             3"
            ]
          },
          "metadata": {
            "tags": []
          },
          "execution_count": 7
        }
      ]
    },
    {
      "cell_type": "code",
      "metadata": {
        "id": "40XkliA-XqBY",
        "colab": {
          "base_uri": "https://localhost:8080/",
          "height": 211
        },
        "outputId": "e4ab20b2-a2a1-4aa7-8775-453a9c6522c2"
      },
      "source": [
        "train_values_dataset.head(5)"
      ],
      "execution_count": 8,
      "outputs": [
        {
          "output_type": "execute_result",
          "data": {
            "text/html": [
              "<div>\n",
              "<style scoped>\n",
              "    .dataframe tbody tr th:only-of-type {\n",
              "        vertical-align: middle;\n",
              "    }\n",
              "\n",
              "    .dataframe tbody tr th {\n",
              "        vertical-align: top;\n",
              "    }\n",
              "\n",
              "    .dataframe thead th {\n",
              "        text-align: right;\n",
              "    }\n",
              "</style>\n",
              "<table border=\"1\" class=\"dataframe\">\n",
              "  <thead>\n",
              "    <tr style=\"text-align: right;\">\n",
              "      <th></th>\n",
              "      <th>building_id</th>\n",
              "      <th>geo_level_1_id</th>\n",
              "      <th>geo_level_2_id</th>\n",
              "      <th>geo_level_3_id</th>\n",
              "      <th>count_floors_pre_eq</th>\n",
              "      <th>age</th>\n",
              "      <th>area_percentage</th>\n",
              "      <th>height_percentage</th>\n",
              "      <th>land_surface_condition</th>\n",
              "      <th>foundation_type</th>\n",
              "      <th>roof_type</th>\n",
              "      <th>ground_floor_type</th>\n",
              "      <th>other_floor_type</th>\n",
              "      <th>position</th>\n",
              "      <th>plan_configuration</th>\n",
              "      <th>has_superstructure_adobe_mud</th>\n",
              "      <th>has_superstructure_mud_mortar_stone</th>\n",
              "      <th>has_superstructure_stone_flag</th>\n",
              "      <th>has_superstructure_cement_mortar_stone</th>\n",
              "      <th>has_superstructure_mud_mortar_brick</th>\n",
              "      <th>has_superstructure_cement_mortar_brick</th>\n",
              "      <th>has_superstructure_timber</th>\n",
              "      <th>has_superstructure_bamboo</th>\n",
              "      <th>has_superstructure_rc_non_engineered</th>\n",
              "      <th>has_superstructure_rc_engineered</th>\n",
              "      <th>has_superstructure_other</th>\n",
              "      <th>legal_ownership_status</th>\n",
              "      <th>count_families</th>\n",
              "      <th>has_secondary_use</th>\n",
              "      <th>has_secondary_use_agriculture</th>\n",
              "      <th>has_secondary_use_hotel</th>\n",
              "      <th>has_secondary_use_rental</th>\n",
              "      <th>has_secondary_use_institution</th>\n",
              "      <th>has_secondary_use_school</th>\n",
              "      <th>has_secondary_use_industry</th>\n",
              "      <th>has_secondary_use_health_post</th>\n",
              "      <th>has_secondary_use_gov_office</th>\n",
              "      <th>has_secondary_use_use_police</th>\n",
              "      <th>has_secondary_use_other</th>\n",
              "    </tr>\n",
              "  </thead>\n",
              "  <tbody>\n",
              "    <tr>\n",
              "      <th>0</th>\n",
              "      <td>802906</td>\n",
              "      <td>6</td>\n",
              "      <td>487</td>\n",
              "      <td>12198</td>\n",
              "      <td>2</td>\n",
              "      <td>30</td>\n",
              "      <td>6</td>\n",
              "      <td>5</td>\n",
              "      <td>t</td>\n",
              "      <td>r</td>\n",
              "      <td>n</td>\n",
              "      <td>f</td>\n",
              "      <td>q</td>\n",
              "      <td>t</td>\n",
              "      <td>d</td>\n",
              "      <td>1</td>\n",
              "      <td>1</td>\n",
              "      <td>0</td>\n",
              "      <td>0</td>\n",
              "      <td>0</td>\n",
              "      <td>0</td>\n",
              "      <td>0</td>\n",
              "      <td>0</td>\n",
              "      <td>0</td>\n",
              "      <td>0</td>\n",
              "      <td>0</td>\n",
              "      <td>v</td>\n",
              "      <td>1</td>\n",
              "      <td>0</td>\n",
              "      <td>0</td>\n",
              "      <td>0</td>\n",
              "      <td>0</td>\n",
              "      <td>0</td>\n",
              "      <td>0</td>\n",
              "      <td>0</td>\n",
              "      <td>0</td>\n",
              "      <td>0</td>\n",
              "      <td>0</td>\n",
              "      <td>0</td>\n",
              "    </tr>\n",
              "    <tr>\n",
              "      <th>1</th>\n",
              "      <td>28830</td>\n",
              "      <td>8</td>\n",
              "      <td>900</td>\n",
              "      <td>2812</td>\n",
              "      <td>2</td>\n",
              "      <td>10</td>\n",
              "      <td>8</td>\n",
              "      <td>7</td>\n",
              "      <td>o</td>\n",
              "      <td>r</td>\n",
              "      <td>n</td>\n",
              "      <td>x</td>\n",
              "      <td>q</td>\n",
              "      <td>s</td>\n",
              "      <td>d</td>\n",
              "      <td>0</td>\n",
              "      <td>1</td>\n",
              "      <td>0</td>\n",
              "      <td>0</td>\n",
              "      <td>0</td>\n",
              "      <td>0</td>\n",
              "      <td>0</td>\n",
              "      <td>0</td>\n",
              "      <td>0</td>\n",
              "      <td>0</td>\n",
              "      <td>0</td>\n",
              "      <td>v</td>\n",
              "      <td>1</td>\n",
              "      <td>0</td>\n",
              "      <td>0</td>\n",
              "      <td>0</td>\n",
              "      <td>0</td>\n",
              "      <td>0</td>\n",
              "      <td>0</td>\n",
              "      <td>0</td>\n",
              "      <td>0</td>\n",
              "      <td>0</td>\n",
              "      <td>0</td>\n",
              "      <td>0</td>\n",
              "    </tr>\n",
              "    <tr>\n",
              "      <th>2</th>\n",
              "      <td>94947</td>\n",
              "      <td>21</td>\n",
              "      <td>363</td>\n",
              "      <td>8973</td>\n",
              "      <td>2</td>\n",
              "      <td>10</td>\n",
              "      <td>5</td>\n",
              "      <td>5</td>\n",
              "      <td>t</td>\n",
              "      <td>r</td>\n",
              "      <td>n</td>\n",
              "      <td>f</td>\n",
              "      <td>x</td>\n",
              "      <td>t</td>\n",
              "      <td>d</td>\n",
              "      <td>0</td>\n",
              "      <td>1</td>\n",
              "      <td>0</td>\n",
              "      <td>0</td>\n",
              "      <td>0</td>\n",
              "      <td>0</td>\n",
              "      <td>0</td>\n",
              "      <td>0</td>\n",
              "      <td>0</td>\n",
              "      <td>0</td>\n",
              "      <td>0</td>\n",
              "      <td>v</td>\n",
              "      <td>1</td>\n",
              "      <td>0</td>\n",
              "      <td>0</td>\n",
              "      <td>0</td>\n",
              "      <td>0</td>\n",
              "      <td>0</td>\n",
              "      <td>0</td>\n",
              "      <td>0</td>\n",
              "      <td>0</td>\n",
              "      <td>0</td>\n",
              "      <td>0</td>\n",
              "      <td>0</td>\n",
              "    </tr>\n",
              "    <tr>\n",
              "      <th>3</th>\n",
              "      <td>590882</td>\n",
              "      <td>22</td>\n",
              "      <td>418</td>\n",
              "      <td>10694</td>\n",
              "      <td>2</td>\n",
              "      <td>10</td>\n",
              "      <td>6</td>\n",
              "      <td>5</td>\n",
              "      <td>t</td>\n",
              "      <td>r</td>\n",
              "      <td>n</td>\n",
              "      <td>f</td>\n",
              "      <td>x</td>\n",
              "      <td>s</td>\n",
              "      <td>d</td>\n",
              "      <td>0</td>\n",
              "      <td>1</td>\n",
              "      <td>0</td>\n",
              "      <td>0</td>\n",
              "      <td>0</td>\n",
              "      <td>0</td>\n",
              "      <td>1</td>\n",
              "      <td>1</td>\n",
              "      <td>0</td>\n",
              "      <td>0</td>\n",
              "      <td>0</td>\n",
              "      <td>v</td>\n",
              "      <td>1</td>\n",
              "      <td>0</td>\n",
              "      <td>0</td>\n",
              "      <td>0</td>\n",
              "      <td>0</td>\n",
              "      <td>0</td>\n",
              "      <td>0</td>\n",
              "      <td>0</td>\n",
              "      <td>0</td>\n",
              "      <td>0</td>\n",
              "      <td>0</td>\n",
              "      <td>0</td>\n",
              "    </tr>\n",
              "    <tr>\n",
              "      <th>4</th>\n",
              "      <td>201944</td>\n",
              "      <td>11</td>\n",
              "      <td>131</td>\n",
              "      <td>1488</td>\n",
              "      <td>3</td>\n",
              "      <td>30</td>\n",
              "      <td>8</td>\n",
              "      <td>9</td>\n",
              "      <td>t</td>\n",
              "      <td>r</td>\n",
              "      <td>n</td>\n",
              "      <td>f</td>\n",
              "      <td>x</td>\n",
              "      <td>s</td>\n",
              "      <td>d</td>\n",
              "      <td>1</td>\n",
              "      <td>0</td>\n",
              "      <td>0</td>\n",
              "      <td>0</td>\n",
              "      <td>0</td>\n",
              "      <td>0</td>\n",
              "      <td>0</td>\n",
              "      <td>0</td>\n",
              "      <td>0</td>\n",
              "      <td>0</td>\n",
              "      <td>0</td>\n",
              "      <td>v</td>\n",
              "      <td>1</td>\n",
              "      <td>0</td>\n",
              "      <td>0</td>\n",
              "      <td>0</td>\n",
              "      <td>0</td>\n",
              "      <td>0</td>\n",
              "      <td>0</td>\n",
              "      <td>0</td>\n",
              "      <td>0</td>\n",
              "      <td>0</td>\n",
              "      <td>0</td>\n",
              "      <td>0</td>\n",
              "    </tr>\n",
              "  </tbody>\n",
              "</table>\n",
              "</div>"
            ],
            "text/plain": [
              "   building_id  ...  has_secondary_use_other\n",
              "0       802906  ...                        0\n",
              "1        28830  ...                        0\n",
              "2        94947  ...                        0\n",
              "3       590882  ...                        0\n",
              "4       201944  ...                        0\n",
              "\n",
              "[5 rows x 39 columns]"
            ]
          },
          "metadata": {
            "tags": []
          },
          "execution_count": 8
        }
      ]
    },
    {
      "cell_type": "code",
      "metadata": {
        "id": "YvPlw_-eCHE9",
        "colab": {
          "base_uri": "https://localhost:8080/"
        },
        "outputId": "43ca1a43-4494-44f9-9d60-3b42c967bbe1"
      },
      "source": [
        "# Analizo segun año.\n",
        "train_values_dataset.info()"
      ],
      "execution_count": 9,
      "outputs": [
        {
          "output_type": "stream",
          "text": [
            "<class 'pandas.core.frame.DataFrame'>\n",
            "RangeIndex: 260601 entries, 0 to 260600\n",
            "Data columns (total 39 columns):\n",
            " #   Column                                  Non-Null Count   Dtype \n",
            "---  ------                                  --------------   ----- \n",
            " 0   building_id                             260601 non-null  int64 \n",
            " 1   geo_level_1_id                          260601 non-null  int64 \n",
            " 2   geo_level_2_id                          260601 non-null  int64 \n",
            " 3   geo_level_3_id                          260601 non-null  int64 \n",
            " 4   count_floors_pre_eq                     260601 non-null  int64 \n",
            " 5   age                                     260601 non-null  int64 \n",
            " 6   area_percentage                         260601 non-null  int64 \n",
            " 7   height_percentage                       260601 non-null  int64 \n",
            " 8   land_surface_condition                  260601 non-null  object\n",
            " 9   foundation_type                         260601 non-null  object\n",
            " 10  roof_type                               260601 non-null  object\n",
            " 11  ground_floor_type                       260601 non-null  object\n",
            " 12  other_floor_type                        260601 non-null  object\n",
            " 13  position                                260601 non-null  object\n",
            " 14  plan_configuration                      260601 non-null  object\n",
            " 15  has_superstructure_adobe_mud            260601 non-null  int64 \n",
            " 16  has_superstructure_mud_mortar_stone     260601 non-null  int64 \n",
            " 17  has_superstructure_stone_flag           260601 non-null  int64 \n",
            " 18  has_superstructure_cement_mortar_stone  260601 non-null  int64 \n",
            " 19  has_superstructure_mud_mortar_brick     260601 non-null  int64 \n",
            " 20  has_superstructure_cement_mortar_brick  260601 non-null  int64 \n",
            " 21  has_superstructure_timber               260601 non-null  int64 \n",
            " 22  has_superstructure_bamboo               260601 non-null  int64 \n",
            " 23  has_superstructure_rc_non_engineered    260601 non-null  int64 \n",
            " 24  has_superstructure_rc_engineered        260601 non-null  int64 \n",
            " 25  has_superstructure_other                260601 non-null  int64 \n",
            " 26  legal_ownership_status                  260601 non-null  object\n",
            " 27  count_families                          260601 non-null  int64 \n",
            " 28  has_secondary_use                       260601 non-null  int64 \n",
            " 29  has_secondary_use_agriculture           260601 non-null  int64 \n",
            " 30  has_secondary_use_hotel                 260601 non-null  int64 \n",
            " 31  has_secondary_use_rental                260601 non-null  int64 \n",
            " 32  has_secondary_use_institution           260601 non-null  int64 \n",
            " 33  has_secondary_use_school                260601 non-null  int64 \n",
            " 34  has_secondary_use_industry              260601 non-null  int64 \n",
            " 35  has_secondary_use_health_post           260601 non-null  int64 \n",
            " 36  has_secondary_use_gov_office            260601 non-null  int64 \n",
            " 37  has_secondary_use_use_police            260601 non-null  int64 \n",
            " 38  has_secondary_use_other                 260601 non-null  int64 \n",
            "dtypes: int64(31), object(8)\n",
            "memory usage: 77.5+ MB\n"
          ],
          "name": "stdout"
        }
      ]
    },
    {
      "cell_type": "markdown",
      "metadata": {
        "id": "mlUPWgqw2-Pl"
      },
      "source": [
        "### Manejo Nulos y Nan."
      ]
    },
    {
      "cell_type": "code",
      "metadata": {
        "colab": {
          "base_uri": "https://localhost:8080/"
        },
        "id": "r9WJHdoq23-D",
        "outputId": "0e4fd12f-6d65-4014-ec10-410875155b49"
      },
      "source": [
        "cantidad_edificios = train_values_dataset[\"building_id\"].count()\n",
        "cantidad_edificios"
      ],
      "execution_count": 10,
      "outputs": [
        {
          "output_type": "execute_result",
          "data": {
            "text/plain": [
              "260601"
            ]
          },
          "metadata": {
            "tags": []
          },
          "execution_count": 10
        }
      ]
    },
    {
      "cell_type": "code",
      "metadata": {
        "colab": {
          "base_uri": "https://localhost:8080/"
        },
        "id": "G8IIIcHL3Gke",
        "outputId": "9282f682-907b-4f68-fecc-5bacc558bc07"
      },
      "source": [
        "# Cantidad de nulos por columna.\n",
        "train_values_dataset.isnull().sum()"
      ],
      "execution_count": 11,
      "outputs": [
        {
          "output_type": "execute_result",
          "data": {
            "text/plain": [
              "building_id                               0\n",
              "geo_level_1_id                            0\n",
              "geo_level_2_id                            0\n",
              "geo_level_3_id                            0\n",
              "count_floors_pre_eq                       0\n",
              "age                                       0\n",
              "area_percentage                           0\n",
              "height_percentage                         0\n",
              "land_surface_condition                    0\n",
              "foundation_type                           0\n",
              "roof_type                                 0\n",
              "ground_floor_type                         0\n",
              "other_floor_type                          0\n",
              "position                                  0\n",
              "plan_configuration                        0\n",
              "has_superstructure_adobe_mud              0\n",
              "has_superstructure_mud_mortar_stone       0\n",
              "has_superstructure_stone_flag             0\n",
              "has_superstructure_cement_mortar_stone    0\n",
              "has_superstructure_mud_mortar_brick       0\n",
              "has_superstructure_cement_mortar_brick    0\n",
              "has_superstructure_timber                 0\n",
              "has_superstructure_bamboo                 0\n",
              "has_superstructure_rc_non_engineered      0\n",
              "has_superstructure_rc_engineered          0\n",
              "has_superstructure_other                  0\n",
              "legal_ownership_status                    0\n",
              "count_families                            0\n",
              "has_secondary_use                         0\n",
              "has_secondary_use_agriculture             0\n",
              "has_secondary_use_hotel                   0\n",
              "has_secondary_use_rental                  0\n",
              "has_secondary_use_institution             0\n",
              "has_secondary_use_school                  0\n",
              "has_secondary_use_industry                0\n",
              "has_secondary_use_health_post             0\n",
              "has_secondary_use_gov_office              0\n",
              "has_secondary_use_use_police              0\n",
              "has_secondary_use_other                   0\n",
              "dtype: int64"
            ]
          },
          "metadata": {
            "tags": []
          },
          "execution_count": 11
        }
      ]
    },
    {
      "cell_type": "code",
      "metadata": {
        "id": "tRJCFxZm3fsr",
        "outputId": "dabd55ea-99e2-44a0-baea-82df0ce7e763",
        "colab": {
          "base_uri": "https://localhost:8080/"
        }
      },
      "source": [
        "# Cantidad de Nan por columna.\n",
        "train_values_dataset.isna().sum()"
      ],
      "execution_count": 12,
      "outputs": [
        {
          "output_type": "execute_result",
          "data": {
            "text/plain": [
              "building_id                               0\n",
              "geo_level_1_id                            0\n",
              "geo_level_2_id                            0\n",
              "geo_level_3_id                            0\n",
              "count_floors_pre_eq                       0\n",
              "age                                       0\n",
              "area_percentage                           0\n",
              "height_percentage                         0\n",
              "land_surface_condition                    0\n",
              "foundation_type                           0\n",
              "roof_type                                 0\n",
              "ground_floor_type                         0\n",
              "other_floor_type                          0\n",
              "position                                  0\n",
              "plan_configuration                        0\n",
              "has_superstructure_adobe_mud              0\n",
              "has_superstructure_mud_mortar_stone       0\n",
              "has_superstructure_stone_flag             0\n",
              "has_superstructure_cement_mortar_stone    0\n",
              "has_superstructure_mud_mortar_brick       0\n",
              "has_superstructure_cement_mortar_brick    0\n",
              "has_superstructure_timber                 0\n",
              "has_superstructure_bamboo                 0\n",
              "has_superstructure_rc_non_engineered      0\n",
              "has_superstructure_rc_engineered          0\n",
              "has_superstructure_other                  0\n",
              "legal_ownership_status                    0\n",
              "count_families                            0\n",
              "has_secondary_use                         0\n",
              "has_secondary_use_agriculture             0\n",
              "has_secondary_use_hotel                   0\n",
              "has_secondary_use_rental                  0\n",
              "has_secondary_use_institution             0\n",
              "has_secondary_use_school                  0\n",
              "has_secondary_use_industry                0\n",
              "has_secondary_use_health_post             0\n",
              "has_secondary_use_gov_office              0\n",
              "has_secondary_use_use_police              0\n",
              "has_secondary_use_other                   0\n",
              "dtype: int64"
            ]
          },
          "metadata": {
            "tags": []
          },
          "execution_count": 12
        }
      ]
    },
    {
      "cell_type": "markdown",
      "metadata": {
        "id": "X-B-dqXv3lyY"
      },
      "source": [
        "### Porcentaje datos validos."
      ]
    },
    {
      "cell_type": "code",
      "metadata": {
        "id": "7nmyBA-z3pq4",
        "outputId": "d5d2ad10-9142-49fc-a7d5-537c619caf3c",
        "colab": {
          "base_uri": "https://localhost:8080/",
          "height": 1000
        }
      },
      "source": [
        "datos_validos = train_values_dataset.count().reset_index()\n",
        "datos_validos[\"Porcentaje_datos_validos\"] = (cantidad_edificios / datos_validos[0]) * 100\n",
        "datos_validos_por_columna = datos_validos[[\"index\",\"Porcentaje_datos_validos\"]]\n",
        "datos_validos_por_columna"
      ],
      "execution_count": 14,
      "outputs": [
        {
          "output_type": "execute_result",
          "data": {
            "text/html": [
              "<div>\n",
              "<style scoped>\n",
              "    .dataframe tbody tr th:only-of-type {\n",
              "        vertical-align: middle;\n",
              "    }\n",
              "\n",
              "    .dataframe tbody tr th {\n",
              "        vertical-align: top;\n",
              "    }\n",
              "\n",
              "    .dataframe thead th {\n",
              "        text-align: right;\n",
              "    }\n",
              "</style>\n",
              "<table border=\"1\" class=\"dataframe\">\n",
              "  <thead>\n",
              "    <tr style=\"text-align: right;\">\n",
              "      <th></th>\n",
              "      <th>index</th>\n",
              "      <th>Porcentaje_datos_validos</th>\n",
              "    </tr>\n",
              "  </thead>\n",
              "  <tbody>\n",
              "    <tr>\n",
              "      <th>0</th>\n",
              "      <td>building_id</td>\n",
              "      <td>100.0</td>\n",
              "    </tr>\n",
              "    <tr>\n",
              "      <th>1</th>\n",
              "      <td>geo_level_1_id</td>\n",
              "      <td>100.0</td>\n",
              "    </tr>\n",
              "    <tr>\n",
              "      <th>2</th>\n",
              "      <td>geo_level_2_id</td>\n",
              "      <td>100.0</td>\n",
              "    </tr>\n",
              "    <tr>\n",
              "      <th>3</th>\n",
              "      <td>geo_level_3_id</td>\n",
              "      <td>100.0</td>\n",
              "    </tr>\n",
              "    <tr>\n",
              "      <th>4</th>\n",
              "      <td>count_floors_pre_eq</td>\n",
              "      <td>100.0</td>\n",
              "    </tr>\n",
              "    <tr>\n",
              "      <th>5</th>\n",
              "      <td>age</td>\n",
              "      <td>100.0</td>\n",
              "    </tr>\n",
              "    <tr>\n",
              "      <th>6</th>\n",
              "      <td>area_percentage</td>\n",
              "      <td>100.0</td>\n",
              "    </tr>\n",
              "    <tr>\n",
              "      <th>7</th>\n",
              "      <td>height_percentage</td>\n",
              "      <td>100.0</td>\n",
              "    </tr>\n",
              "    <tr>\n",
              "      <th>8</th>\n",
              "      <td>land_surface_condition</td>\n",
              "      <td>100.0</td>\n",
              "    </tr>\n",
              "    <tr>\n",
              "      <th>9</th>\n",
              "      <td>foundation_type</td>\n",
              "      <td>100.0</td>\n",
              "    </tr>\n",
              "    <tr>\n",
              "      <th>10</th>\n",
              "      <td>roof_type</td>\n",
              "      <td>100.0</td>\n",
              "    </tr>\n",
              "    <tr>\n",
              "      <th>11</th>\n",
              "      <td>ground_floor_type</td>\n",
              "      <td>100.0</td>\n",
              "    </tr>\n",
              "    <tr>\n",
              "      <th>12</th>\n",
              "      <td>other_floor_type</td>\n",
              "      <td>100.0</td>\n",
              "    </tr>\n",
              "    <tr>\n",
              "      <th>13</th>\n",
              "      <td>position</td>\n",
              "      <td>100.0</td>\n",
              "    </tr>\n",
              "    <tr>\n",
              "      <th>14</th>\n",
              "      <td>plan_configuration</td>\n",
              "      <td>100.0</td>\n",
              "    </tr>\n",
              "    <tr>\n",
              "      <th>15</th>\n",
              "      <td>has_superstructure_adobe_mud</td>\n",
              "      <td>100.0</td>\n",
              "    </tr>\n",
              "    <tr>\n",
              "      <th>16</th>\n",
              "      <td>has_superstructure_mud_mortar_stone</td>\n",
              "      <td>100.0</td>\n",
              "    </tr>\n",
              "    <tr>\n",
              "      <th>17</th>\n",
              "      <td>has_superstructure_stone_flag</td>\n",
              "      <td>100.0</td>\n",
              "    </tr>\n",
              "    <tr>\n",
              "      <th>18</th>\n",
              "      <td>has_superstructure_cement_mortar_stone</td>\n",
              "      <td>100.0</td>\n",
              "    </tr>\n",
              "    <tr>\n",
              "      <th>19</th>\n",
              "      <td>has_superstructure_mud_mortar_brick</td>\n",
              "      <td>100.0</td>\n",
              "    </tr>\n",
              "    <tr>\n",
              "      <th>20</th>\n",
              "      <td>has_superstructure_cement_mortar_brick</td>\n",
              "      <td>100.0</td>\n",
              "    </tr>\n",
              "    <tr>\n",
              "      <th>21</th>\n",
              "      <td>has_superstructure_timber</td>\n",
              "      <td>100.0</td>\n",
              "    </tr>\n",
              "    <tr>\n",
              "      <th>22</th>\n",
              "      <td>has_superstructure_bamboo</td>\n",
              "      <td>100.0</td>\n",
              "    </tr>\n",
              "    <tr>\n",
              "      <th>23</th>\n",
              "      <td>has_superstructure_rc_non_engineered</td>\n",
              "      <td>100.0</td>\n",
              "    </tr>\n",
              "    <tr>\n",
              "      <th>24</th>\n",
              "      <td>has_superstructure_rc_engineered</td>\n",
              "      <td>100.0</td>\n",
              "    </tr>\n",
              "    <tr>\n",
              "      <th>25</th>\n",
              "      <td>has_superstructure_other</td>\n",
              "      <td>100.0</td>\n",
              "    </tr>\n",
              "    <tr>\n",
              "      <th>26</th>\n",
              "      <td>legal_ownership_status</td>\n",
              "      <td>100.0</td>\n",
              "    </tr>\n",
              "    <tr>\n",
              "      <th>27</th>\n",
              "      <td>count_families</td>\n",
              "      <td>100.0</td>\n",
              "    </tr>\n",
              "    <tr>\n",
              "      <th>28</th>\n",
              "      <td>has_secondary_use</td>\n",
              "      <td>100.0</td>\n",
              "    </tr>\n",
              "    <tr>\n",
              "      <th>29</th>\n",
              "      <td>has_secondary_use_agriculture</td>\n",
              "      <td>100.0</td>\n",
              "    </tr>\n",
              "    <tr>\n",
              "      <th>30</th>\n",
              "      <td>has_secondary_use_hotel</td>\n",
              "      <td>100.0</td>\n",
              "    </tr>\n",
              "    <tr>\n",
              "      <th>31</th>\n",
              "      <td>has_secondary_use_rental</td>\n",
              "      <td>100.0</td>\n",
              "    </tr>\n",
              "    <tr>\n",
              "      <th>32</th>\n",
              "      <td>has_secondary_use_institution</td>\n",
              "      <td>100.0</td>\n",
              "    </tr>\n",
              "    <tr>\n",
              "      <th>33</th>\n",
              "      <td>has_secondary_use_school</td>\n",
              "      <td>100.0</td>\n",
              "    </tr>\n",
              "    <tr>\n",
              "      <th>34</th>\n",
              "      <td>has_secondary_use_industry</td>\n",
              "      <td>100.0</td>\n",
              "    </tr>\n",
              "    <tr>\n",
              "      <th>35</th>\n",
              "      <td>has_secondary_use_health_post</td>\n",
              "      <td>100.0</td>\n",
              "    </tr>\n",
              "    <tr>\n",
              "      <th>36</th>\n",
              "      <td>has_secondary_use_gov_office</td>\n",
              "      <td>100.0</td>\n",
              "    </tr>\n",
              "    <tr>\n",
              "      <th>37</th>\n",
              "      <td>has_secondary_use_use_police</td>\n",
              "      <td>100.0</td>\n",
              "    </tr>\n",
              "    <tr>\n",
              "      <th>38</th>\n",
              "      <td>has_secondary_use_other</td>\n",
              "      <td>100.0</td>\n",
              "    </tr>\n",
              "  </tbody>\n",
              "</table>\n",
              "</div>"
            ],
            "text/plain": [
              "                                     index  Porcentaje_datos_validos\n",
              "0                              building_id                     100.0\n",
              "1                           geo_level_1_id                     100.0\n",
              "2                           geo_level_2_id                     100.0\n",
              "3                           geo_level_3_id                     100.0\n",
              "4                      count_floors_pre_eq                     100.0\n",
              "5                                      age                     100.0\n",
              "6                          area_percentage                     100.0\n",
              "7                        height_percentage                     100.0\n",
              "8                   land_surface_condition                     100.0\n",
              "9                          foundation_type                     100.0\n",
              "10                               roof_type                     100.0\n",
              "11                       ground_floor_type                     100.0\n",
              "12                        other_floor_type                     100.0\n",
              "13                                position                     100.0\n",
              "14                      plan_configuration                     100.0\n",
              "15            has_superstructure_adobe_mud                     100.0\n",
              "16     has_superstructure_mud_mortar_stone                     100.0\n",
              "17           has_superstructure_stone_flag                     100.0\n",
              "18  has_superstructure_cement_mortar_stone                     100.0\n",
              "19     has_superstructure_mud_mortar_brick                     100.0\n",
              "20  has_superstructure_cement_mortar_brick                     100.0\n",
              "21               has_superstructure_timber                     100.0\n",
              "22               has_superstructure_bamboo                     100.0\n",
              "23    has_superstructure_rc_non_engineered                     100.0\n",
              "24        has_superstructure_rc_engineered                     100.0\n",
              "25                has_superstructure_other                     100.0\n",
              "26                  legal_ownership_status                     100.0\n",
              "27                          count_families                     100.0\n",
              "28                       has_secondary_use                     100.0\n",
              "29           has_secondary_use_agriculture                     100.0\n",
              "30                 has_secondary_use_hotel                     100.0\n",
              "31                has_secondary_use_rental                     100.0\n",
              "32           has_secondary_use_institution                     100.0\n",
              "33                has_secondary_use_school                     100.0\n",
              "34              has_secondary_use_industry                     100.0\n",
              "35           has_secondary_use_health_post                     100.0\n",
              "36            has_secondary_use_gov_office                     100.0\n",
              "37            has_secondary_use_use_police                     100.0\n",
              "38                 has_secondary_use_other                     100.0"
            ]
          },
          "metadata": {
            "tags": []
          },
          "execution_count": 14
        }
      ]
    },
    {
      "cell_type": "markdown",
      "metadata": {
        "id": "5TyemhEC5uoC"
      },
      "source": [
        "### Analisis Segun Edad"
      ]
    },
    {
      "cell_type": "markdown",
      "metadata": {
        "id": "hfNnyL5R_bER"
      },
      "source": [
        "#### Filtrado datos y merge."
      ]
    },
    {
      "cell_type": "code",
      "metadata": {
        "colab": {
          "base_uri": "https://localhost:8080/",
          "height": 76
        },
        "id": "lhRFPSn650n8",
        "outputId": "e91ba2ca-bca6-405a-bb13-bc8bea96d092"
      },
      "source": [
        "datos_edad = train_values_dataset[[\"building_id\", \"age\"]]\n",
        "datos_edad_merged = pd.merge(left=datos_edad, right=train_labels_dataset, how=\"inner\", on=\"building_id\")\n",
        "datos_edad_filtrados = datos_edad_merged[[\"damage_grade\", \"age\"]]\n",
        "datos_edad_filtrados.head(1)"
      ],
      "execution_count": 15,
      "outputs": [
        {
          "output_type": "execute_result",
          "data": {
            "text/html": [
              "<div>\n",
              "<style scoped>\n",
              "    .dataframe tbody tr th:only-of-type {\n",
              "        vertical-align: middle;\n",
              "    }\n",
              "\n",
              "    .dataframe tbody tr th {\n",
              "        vertical-align: top;\n",
              "    }\n",
              "\n",
              "    .dataframe thead th {\n",
              "        text-align: right;\n",
              "    }\n",
              "</style>\n",
              "<table border=\"1\" class=\"dataframe\">\n",
              "  <thead>\n",
              "    <tr style=\"text-align: right;\">\n",
              "      <th></th>\n",
              "      <th>damage_grade</th>\n",
              "      <th>age</th>\n",
              "    </tr>\n",
              "  </thead>\n",
              "  <tbody>\n",
              "    <tr>\n",
              "      <th>0</th>\n",
              "      <td>3</td>\n",
              "      <td>30</td>\n",
              "    </tr>\n",
              "  </tbody>\n",
              "</table>\n",
              "</div>"
            ],
            "text/plain": [
              "   damage_grade  age\n",
              "0             3   30"
            ]
          },
          "metadata": {
            "tags": []
          },
          "execution_count": 15
        }
      ]
    },
    {
      "cell_type": "markdown",
      "metadata": {
        "id": "n8OiWAp76eYB"
      },
      "source": [
        "#### Edades comparadas a promedio segun damage_grade."
      ]
    },
    {
      "cell_type": "code",
      "metadata": {
        "id": "YFbOp2SA6iHG",
        "outputId": "b61f9013-72af-4157-ed64-4691912d30e8",
        "colab": {
          "base_uri": "https://localhost:8080/",
          "height": 133
        }
      },
      "source": [
        "datos_promedio = datos_edad_filtrados\n",
        "datos_promedio[\"Supera_Promedio_Edad\"] = datos_promedio[\"age\"] > datos_promedio[\"age\"].mean()\n",
        "datos_promedio[\"Debajo_Promedio_Edad\"] = datos_promedio[\"age\"] <= datos_promedio[\"age\"].mean()\n",
        "datos_promedio_final = datos_promedio.groupby(\"damage_grade\").agg({\"Supera_Promedio_Edad\": \"count\", \"Debajo_Promedio_Edad\": \"count\"}).reset_index()\n",
        "datos_promedio_final"
      ],
      "execution_count": 16,
      "outputs": [
        {
          "output_type": "execute_result",
          "data": {
            "text/html": [
              "<div>\n",
              "<style scoped>\n",
              "    .dataframe tbody tr th:only-of-type {\n",
              "        vertical-align: middle;\n",
              "    }\n",
              "\n",
              "    .dataframe tbody tr th {\n",
              "        vertical-align: top;\n",
              "    }\n",
              "\n",
              "    .dataframe thead th {\n",
              "        text-align: right;\n",
              "    }\n",
              "</style>\n",
              "<table border=\"1\" class=\"dataframe\">\n",
              "  <thead>\n",
              "    <tr style=\"text-align: right;\">\n",
              "      <th></th>\n",
              "      <th>damage_grade</th>\n",
              "      <th>Supera_Promedio_Edad</th>\n",
              "      <th>Debajo_Promedio_Edad</th>\n",
              "    </tr>\n",
              "  </thead>\n",
              "  <tbody>\n",
              "    <tr>\n",
              "      <th>0</th>\n",
              "      <td>1</td>\n",
              "      <td>25124</td>\n",
              "      <td>25124</td>\n",
              "    </tr>\n",
              "    <tr>\n",
              "      <th>1</th>\n",
              "      <td>2</td>\n",
              "      <td>148259</td>\n",
              "      <td>148259</td>\n",
              "    </tr>\n",
              "    <tr>\n",
              "      <th>2</th>\n",
              "      <td>3</td>\n",
              "      <td>87218</td>\n",
              "      <td>87218</td>\n",
              "    </tr>\n",
              "  </tbody>\n",
              "</table>\n",
              "</div>"
            ],
            "text/plain": [
              "   damage_grade  Supera_Promedio_Edad  Debajo_Promedio_Edad\n",
              "0             1                 25124                 25124\n",
              "1             2                148259                148259\n",
              "2             3                 87218                 87218"
            ]
          },
          "metadata": {
            "tags": []
          },
          "execution_count": 16
        }
      ]
    },
    {
      "cell_type": "markdown",
      "metadata": {
        "id": "wn_vojIh7tZp"
      },
      "source": [
        "#### Rango edades segun damage_grade."
      ]
    },
    {
      "cell_type": "code",
      "metadata": {
        "id": "FxOBZddz7r46"
      },
      "source": [
        "# Obtengo los rangos de edad segun el damage grade, para edificios entre 0 a 100 anios.\n",
        "datos_rangos = datos_edad_filtrados\n",
        "datos_rangos[\"Damage_3\"] = datos_rangos[\"damage_grade\"] == 3\n",
        "datos_rangos[\"Damage_2\"] = datos_rangos[\"damage_grade\"] == 2\n",
        "datos_rangos[\"Damage_1\"] = datos_rangos[\"damage_grade\"] == 1\n",
        "datos_rangos_final = datos_rangos.groupby(\"age\").agg({\"Damage_3\" : \"sum\", \"Damage_2\" : \"sum\", \"Damage_1\" : \"sum\"}).reset_index()\n"
      ],
      "execution_count": 19,
      "outputs": []
    },
    {
      "cell_type": "markdown",
      "metadata": {
        "id": "yuz6emN8m5LK"
      },
      "source": [
        "##### Rangos menores a 100 anios."
      ]
    },
    {
      "cell_type": "code",
      "metadata": {
        "id": "IsbnY3Q_m_ZP"
      },
      "source": [
        "datos_rangos_edad_menor_100 = datos_rangos_final[datos_rangos_final[\"age\"] <= 100]\n",
        "datos_rangos_edad_menor_100"
      ],
      "execution_count": 26,
      "outputs": []
    },
    {
      "cell_type": "markdown",
      "metadata": {
        "id": "jMIVEceAmydP"
      },
      "source": [
        "##### Rangos mayores a 100 anios."
      ]
    },
    {
      "cell_type": "code",
      "metadata": {
        "id": "G2z8MR_3mnQf",
        "outputId": "5dd918df-5556-46fb-cbd9-273325e671e4",
        "colab": {
          "base_uri": "https://localhost:8080/",
          "height": 651
        }
      },
      "source": [
        "datos_rangos_edad_mayor_100 = datos_rangos_final[datos_rangos_final[\"age\"] > 100]\n",
        "datos_rangos_edad_mayor_100"
      ],
      "execution_count": 28,
      "outputs": [
        {
          "output_type": "execute_result",
          "data": {
            "text/html": [
              "<div>\n",
              "<style scoped>\n",
              "    .dataframe tbody tr th:only-of-type {\n",
              "        vertical-align: middle;\n",
              "    }\n",
              "\n",
              "    .dataframe tbody tr th {\n",
              "        vertical-align: top;\n",
              "    }\n",
              "\n",
              "    .dataframe thead th {\n",
              "        text-align: right;\n",
              "    }\n",
              "</style>\n",
              "<table border=\"1\" class=\"dataframe\">\n",
              "  <thead>\n",
              "    <tr style=\"text-align: right;\">\n",
              "      <th></th>\n",
              "      <th>age</th>\n",
              "      <th>Damage_3</th>\n",
              "      <th>Damage_2</th>\n",
              "      <th>Damage_1</th>\n",
              "    </tr>\n",
              "  </thead>\n",
              "  <tbody>\n",
              "    <tr>\n",
              "      <th>21</th>\n",
              "      <td>105</td>\n",
              "      <td>32</td>\n",
              "      <td>56</td>\n",
              "      <td>1</td>\n",
              "    </tr>\n",
              "    <tr>\n",
              "      <th>22</th>\n",
              "      <td>110</td>\n",
              "      <td>35</td>\n",
              "      <td>64</td>\n",
              "      <td>1</td>\n",
              "    </tr>\n",
              "    <tr>\n",
              "      <th>23</th>\n",
              "      <td>115</td>\n",
              "      <td>10</td>\n",
              "      <td>10</td>\n",
              "      <td>1</td>\n",
              "    </tr>\n",
              "    <tr>\n",
              "      <th>24</th>\n",
              "      <td>120</td>\n",
              "      <td>80</td>\n",
              "      <td>98</td>\n",
              "      <td>2</td>\n",
              "    </tr>\n",
              "    <tr>\n",
              "      <th>25</th>\n",
              "      <td>125</td>\n",
              "      <td>11</td>\n",
              "      <td>26</td>\n",
              "      <td>0</td>\n",
              "    </tr>\n",
              "    <tr>\n",
              "      <th>26</th>\n",
              "      <td>130</td>\n",
              "      <td>6</td>\n",
              "      <td>3</td>\n",
              "      <td>0</td>\n",
              "    </tr>\n",
              "    <tr>\n",
              "      <th>27</th>\n",
              "      <td>135</td>\n",
              "      <td>0</td>\n",
              "      <td>4</td>\n",
              "      <td>1</td>\n",
              "    </tr>\n",
              "    <tr>\n",
              "      <th>28</th>\n",
              "      <td>140</td>\n",
              "      <td>1</td>\n",
              "      <td>8</td>\n",
              "      <td>0</td>\n",
              "    </tr>\n",
              "    <tr>\n",
              "      <th>29</th>\n",
              "      <td>145</td>\n",
              "      <td>0</td>\n",
              "      <td>3</td>\n",
              "      <td>0</td>\n",
              "    </tr>\n",
              "    <tr>\n",
              "      <th>30</th>\n",
              "      <td>150</td>\n",
              "      <td>44</td>\n",
              "      <td>97</td>\n",
              "      <td>1</td>\n",
              "    </tr>\n",
              "    <tr>\n",
              "      <th>31</th>\n",
              "      <td>155</td>\n",
              "      <td>1</td>\n",
              "      <td>0</td>\n",
              "      <td>0</td>\n",
              "    </tr>\n",
              "    <tr>\n",
              "      <th>32</th>\n",
              "      <td>160</td>\n",
              "      <td>3</td>\n",
              "      <td>3</td>\n",
              "      <td>0</td>\n",
              "    </tr>\n",
              "    <tr>\n",
              "      <th>33</th>\n",
              "      <td>165</td>\n",
              "      <td>0</td>\n",
              "      <td>2</td>\n",
              "      <td>0</td>\n",
              "    </tr>\n",
              "    <tr>\n",
              "      <th>34</th>\n",
              "      <td>170</td>\n",
              "      <td>2</td>\n",
              "      <td>4</td>\n",
              "      <td>0</td>\n",
              "    </tr>\n",
              "    <tr>\n",
              "      <th>35</th>\n",
              "      <td>175</td>\n",
              "      <td>2</td>\n",
              "      <td>3</td>\n",
              "      <td>0</td>\n",
              "    </tr>\n",
              "    <tr>\n",
              "      <th>36</th>\n",
              "      <td>180</td>\n",
              "      <td>2</td>\n",
              "      <td>5</td>\n",
              "      <td>0</td>\n",
              "    </tr>\n",
              "    <tr>\n",
              "      <th>37</th>\n",
              "      <td>185</td>\n",
              "      <td>0</td>\n",
              "      <td>1</td>\n",
              "      <td>0</td>\n",
              "    </tr>\n",
              "    <tr>\n",
              "      <th>38</th>\n",
              "      <td>190</td>\n",
              "      <td>1</td>\n",
              "      <td>2</td>\n",
              "      <td>0</td>\n",
              "    </tr>\n",
              "    <tr>\n",
              "      <th>39</th>\n",
              "      <td>195</td>\n",
              "      <td>0</td>\n",
              "      <td>2</td>\n",
              "      <td>0</td>\n",
              "    </tr>\n",
              "    <tr>\n",
              "      <th>40</th>\n",
              "      <td>200</td>\n",
              "      <td>39</td>\n",
              "      <td>64</td>\n",
              "      <td>3</td>\n",
              "    </tr>\n",
              "    <tr>\n",
              "      <th>41</th>\n",
              "      <td>995</td>\n",
              "      <td>389</td>\n",
              "      <td>822</td>\n",
              "      <td>179</td>\n",
              "    </tr>\n",
              "  </tbody>\n",
              "</table>\n",
              "</div>"
            ],
            "text/plain": [
              "    age  Damage_3  Damage_2  Damage_1\n",
              "21  105        32        56         1\n",
              "22  110        35        64         1\n",
              "23  115        10        10         1\n",
              "24  120        80        98         2\n",
              "25  125        11        26         0\n",
              "26  130         6         3         0\n",
              "27  135         0         4         1\n",
              "28  140         1         8         0\n",
              "29  145         0         3         0\n",
              "30  150        44        97         1\n",
              "31  155         1         0         0\n",
              "32  160         3         3         0\n",
              "33  165         0         2         0\n",
              "34  170         2         4         0\n",
              "35  175         2         3         0\n",
              "36  180         2         5         0\n",
              "37  185         0         1         0\n",
              "38  190         1         2         0\n",
              "39  195         0         2         0\n",
              "40  200        39        64         3\n",
              "41  995       389       822       179"
            ]
          },
          "metadata": {
            "tags": []
          },
          "execution_count": 28
        }
      ]
    },
    {
      "cell_type": "markdown",
      "metadata": {
        "id": "epEEigh2mpXH"
      },
      "source": [
        "### Casas Barrro\n"
      ]
    },
    {
      "cell_type": "code",
      "metadata": {
        "id": "tvC-p1at6v-A"
      },
      "source": [
        "casas_barro = train_values_dataset.loc[train_values_dataset['has_superstructure_adobe_mud'] == 1, ['building_id','has_superstructure_adobe_mud']]"
      ],
      "execution_count": null,
      "outputs": []
    },
    {
      "cell_type": "code",
      "metadata": {
        "id": "UJLWphfc8szh"
      },
      "source": [
        "danio_casas_barro = pd.merge(casas_barro, train_labels_dataset, how='inner', on= 'building_id')"
      ],
      "execution_count": null,
      "outputs": []
    },
    {
      "cell_type": "code",
      "metadata": {
        "id": "WVXboktE9JDB",
        "colab": {
          "base_uri": "https://localhost:8080/",
          "height": 175
        },
        "outputId": "bef5f6c1-7364-43be-a75a-62d4b7d079b9"
      },
      "source": [
        "#nivel de daño para las construcciones contruidas con barro\n",
        "danio_casas_barro['damage_grade'].value_counts()"
      ],
      "execution_count": 18,
      "outputs": [
        {
          "output_type": "error",
          "ename": "NameError",
          "evalue": "ignored",
          "traceback": [
            "\u001b[0;31m---------------------------------------------------------------------------\u001b[0m",
            "\u001b[0;31mNameError\u001b[0m                                 Traceback (most recent call last)",
            "\u001b[0;32m<ipython-input-18-001d23ecd95f>\u001b[0m in \u001b[0;36m<module>\u001b[0;34m()\u001b[0m\n\u001b[1;32m      1\u001b[0m \u001b[0;31m#nivel de daño para las construcciones contruidas con barro\u001b[0m\u001b[0;34m\u001b[0m\u001b[0;34m\u001b[0m\u001b[0;34m\u001b[0m\u001b[0m\n\u001b[0;32m----> 2\u001b[0;31m \u001b[0mdanio_casas_barro\u001b[0m\u001b[0;34m[\u001b[0m\u001b[0;34m'damage_grade'\u001b[0m\u001b[0;34m]\u001b[0m\u001b[0;34m.\u001b[0m\u001b[0mvalue_counts\u001b[0m\u001b[0;34m(\u001b[0m\u001b[0;34m)\u001b[0m\u001b[0;34m\u001b[0m\u001b[0;34m\u001b[0m\u001b[0m\n\u001b[0m",
            "\u001b[0;31mNameError\u001b[0m: name 'danio_casas_barro' is not defined"
          ]
        }
      ]
    }
  ]
}