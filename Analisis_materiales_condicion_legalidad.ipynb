{
  "nbformat": 4,
  "nbformat_minor": 0,
  "metadata": {
    "colab": {
      "name": "Analisis_materiales_condicion_legalidad.ipynb",
      "provenance": [],
      "collapsed_sections": [],
      "toc_visible": true
    },
    "kernelspec": {
      "display_name": "Python 3",
      "name": "python3"
    },
    "language_info": {
      "name": "python"
    }
  },
  "cells": [
    {
      "cell_type": "code",
      "metadata": {
        "id": "FZrgUlBGQwb2"
      },
      "source": [
        "# Imports\n",
        "\n",
        "import pandas as pd\n",
        "import seaborn as sns\n",
        "import matplotlib.pyplot as plt\n",
        "import seaborn as sns\n",
        "import numpy as np\n"
      ],
      "execution_count": null,
      "outputs": []
    },
    {
      "cell_type": "code",
      "metadata": {
        "id": "Y3oK5f6QVqGc"
      },
      "source": [
        "# Import files from drive.\n",
        "\n",
        "# from google.colab import drive\n",
        "# drive.mount('/content/gdrive')\n",
        "\n",
        "from pydrive.auth import GoogleAuth\n",
        "from pydrive.drive import GoogleDrive\n",
        "from google.colab import auth\n",
        "from oauth2client.client import GoogleCredentials"
      ],
      "execution_count": null,
      "outputs": []
    },
    {
      "cell_type": "code",
      "metadata": {
        "id": "BzYxwmlvxAcb"
      },
      "source": [
        "auth.authenticate_user()\n",
        "gauth = GoogleAuth()\n",
        "gauth.credentials = GoogleCredentials.get_application_default()\n",
        "drive = GoogleDrive(gauth)"
      ],
      "execution_count": null,
      "outputs": []
    },
    {
      "cell_type": "code",
      "metadata": {
        "id": "JoqputPHXOQi"
      },
      "source": [
        "dataset_labels = drive.CreateFile({'id': '1BFMOae6_mh0FAADOEAmMgKEyxVLnyLx-'})\n",
        "dataset_labels.GetContentFile('labels.csv')"
      ],
      "execution_count": null,
      "outputs": []
    },
    {
      "cell_type": "code",
      "metadata": {
        "id": "Wqr84s4YzA4d"
      },
      "source": [
        "dataset_values = drive.CreateFile({'id': '1H-6GzuPgEkHrJuA0ZN932tyAynasX231'})\n",
        "dataset_values.GetContentFile('values.csv')"
      ],
      "execution_count": null,
      "outputs": []
    },
    {
      "cell_type": "code",
      "metadata": {
        "id": "LbehTyDWb3Z5"
      },
      "source": [
        "s =drive.CreateFile({'id': '1AJtJeG7Ca3eUl-VAt2wJrF6vOVLUwBIW'})\n",
        "s.GetContentFile('piso_altura.csv')\n",
        "para_scatter = pd.read_csv('piso_altura.csv')"
      ],
      "execution_count": null,
      "outputs": []
    },
    {
      "cell_type": "code",
      "metadata": {
        "id": "WtriF08pYoEw"
      },
      "source": [
        ""
      ],
      "execution_count": null,
      "outputs": []
    },
    {
      "cell_type": "markdown",
      "metadata": {
        "id": "xWrFA5D9XHYP"
      },
      "source": [
        "## Analisis Exploratorio"
      ]
    },
    {
      "cell_type": "markdown",
      "metadata": {
        "id": "QPxSw4dl3Cy_"
      },
      "source": [
        "### Analisis inicial.\n"
      ]
    },
    {
      "cell_type": "markdown",
      "metadata": {
        "id": "EibYMkzjZ_vl"
      },
      "source": [
        "#### cambio tipos para optimizar memoria en dataframe labels"
      ]
    },
    {
      "cell_type": "code",
      "metadata": {
        "id": "RoHtUIgCCsly"
      },
      "source": [
        "train_labels_dataset = pd.read_csv('labels.csv', dtype = {\n",
        "    'building_id' : 'int32',\n",
        "    'damage_grade' : 'int16'\n",
        "})"
      ],
      "execution_count": null,
      "outputs": []
    },
    {
      "cell_type": "code",
      "metadata": {
        "colab": {
          "base_uri": "https://localhost:8080/",
          "height": 204
        },
        "id": "EmLZa5c-XKU_",
        "outputId": "630e608c-7f82-4c11-c4c2-808cf5a1c7ab"
      },
      "source": [
        "train_labels_dataset.head(5)"
      ],
      "execution_count": null,
      "outputs": [
        {
          "output_type": "execute_result",
          "data": {
            "text/html": [
              "<div>\n",
              "<style scoped>\n",
              "    .dataframe tbody tr th:only-of-type {\n",
              "        vertical-align: middle;\n",
              "    }\n",
              "\n",
              "    .dataframe tbody tr th {\n",
              "        vertical-align: top;\n",
              "    }\n",
              "\n",
              "    .dataframe thead th {\n",
              "        text-align: right;\n",
              "    }\n",
              "</style>\n",
              "<table border=\"1\" class=\"dataframe\">\n",
              "  <thead>\n",
              "    <tr style=\"text-align: right;\">\n",
              "      <th></th>\n",
              "      <th>building_id</th>\n",
              "      <th>damage_grade</th>\n",
              "    </tr>\n",
              "  </thead>\n",
              "  <tbody>\n",
              "    <tr>\n",
              "      <th>0</th>\n",
              "      <td>802906</td>\n",
              "      <td>3</td>\n",
              "    </tr>\n",
              "    <tr>\n",
              "      <th>1</th>\n",
              "      <td>28830</td>\n",
              "      <td>2</td>\n",
              "    </tr>\n",
              "    <tr>\n",
              "      <th>2</th>\n",
              "      <td>94947</td>\n",
              "      <td>3</td>\n",
              "    </tr>\n",
              "    <tr>\n",
              "      <th>3</th>\n",
              "      <td>590882</td>\n",
              "      <td>2</td>\n",
              "    </tr>\n",
              "    <tr>\n",
              "      <th>4</th>\n",
              "      <td>201944</td>\n",
              "      <td>3</td>\n",
              "    </tr>\n",
              "  </tbody>\n",
              "</table>\n",
              "</div>"
            ],
            "text/plain": [
              "   building_id  damage_grade\n",
              "0       802906             3\n",
              "1        28830             2\n",
              "2        94947             3\n",
              "3       590882             2\n",
              "4       201944             3"
            ]
          },
          "metadata": {
            "tags": []
          },
          "execution_count": 197
        }
      ]
    },
    {
      "cell_type": "code",
      "metadata": {
        "colab": {
          "base_uri": "https://localhost:8080/"
        },
        "id": "74g7BT8CCFTF",
        "outputId": "27af1722-c44d-45d5-e01d-49b3c5582eb6"
      },
      "source": [
        "train_labels_dataset.info()"
      ],
      "execution_count": null,
      "outputs": [
        {
          "output_type": "stream",
          "text": [
            "<class 'pandas.core.frame.DataFrame'>\n",
            "RangeIndex: 260601 entries, 0 to 260600\n",
            "Data columns (total 2 columns):\n",
            " #   Column        Non-Null Count   Dtype\n",
            "---  ------        --------------   -----\n",
            " 0   building_id   260601 non-null  int32\n",
            " 1   damage_grade  260601 non-null  int16\n",
            "dtypes: int16(1), int32(1)\n",
            "memory usage: 1.5 MB\n"
          ],
          "name": "stdout"
        }
      ]
    },
    {
      "cell_type": "markdown",
      "metadata": {
        "id": "1iqgPprCaal-"
      },
      "source": [
        "#### cambio de tipos para optimizar memoria en dataframe values"
      ]
    },
    {
      "cell_type": "code",
      "metadata": {
        "id": "uHmRVW8mvzOw"
      },
      "source": [
        "train_values_dataset = pd.read_csv('values.csv', dtype = {\n",
        "                            'geo_level_1_id':'int16',\n",
        "                            'geo_level_2_id':'int16',\n",
        "                            'geo_level_3_id':'int16',\n",
        "                            'count_floors_pre_eq':'int16',\n",
        "                            'age':'int16',\n",
        "                            'area_percentage':'int16',\n",
        "                            'height_percentage':'int16',\n",
        "                            'land_surface_condition':'category',                 \n",
        "                            'foundation_type':'category',                          \n",
        "                            'roof_type':'category',                                 \n",
        "                            'ground_floor_type':'category',                        \n",
        "                            'other_floor_type':'category',                          \n",
        "                            'position':'category',                                  \n",
        "                            'plan_configuration':'category',\n",
        "                            'has_superstructure_adobe_mud':'bool',               \n",
        "                            'has_superstructure_mud_mortar_stone':'bool',        \n",
        "                            'has_superstructure_stone_flag':'bool',             \n",
        "                            'has_superstructure_cement_mortar_stone':'bool',     \n",
        "                            'has_superstructure_mud_mortar_brick':'bool',        \n",
        "                            'has_superstructure_cement_mortar_brick':'bool',     \n",
        "                            'has_superstructure_timber':'bool',                  \n",
        "                            'has_superstructure_bamboo':'bool',                  \n",
        "                            'has_superstructure_rc_non_engineered':'bool',       \n",
        "                            'has_superstructure_rc_engineered':'bool',          \n",
        "                            'has_superstructure_other':'bool',\n",
        "                            'legal_ownership_status':'category',\n",
        "                            'count_families':'int16',\n",
        "                            'has_secondary_use':'bool',                          \n",
        "                            'has_secondary_use_agriculture':'bool',             \n",
        "                            'has_secondary_use_hotel':'bool',                    \n",
        "                            'has_secondary_use_rental':'bool',                  \n",
        "                            'has_secondary_use_institution':'bool',             \n",
        "                            'has_secondary_use_school':'bool',                \n",
        "                            'has_secondary_use_industry':'bool',              \n",
        "                            'has_secondary_use_health_post':'bool',         \n",
        "                            'has_secondary_use_gov_office':'bool',           \n",
        "                            'has_secondary_use_use_police':'bool',             \n",
        "                            'has_secondary_use_other':'bool'                   \n",
        "                        })"
      ],
      "execution_count": null,
      "outputs": []
    },
    {
      "cell_type": "code",
      "metadata": {
        "colab": {
          "base_uri": "https://localhost:8080/",
          "height": 224
        },
        "id": "40XkliA-XqBY",
        "outputId": "15635b66-d362-4fef-ee63-ddd1d70c88d3"
      },
      "source": [
        "train_values_dataset.head(5)"
      ],
      "execution_count": null,
      "outputs": [
        {
          "output_type": "execute_result",
          "data": {
            "text/html": [
              "<div>\n",
              "<style scoped>\n",
              "    .dataframe tbody tr th:only-of-type {\n",
              "        vertical-align: middle;\n",
              "    }\n",
              "\n",
              "    .dataframe tbody tr th {\n",
              "        vertical-align: top;\n",
              "    }\n",
              "\n",
              "    .dataframe thead th {\n",
              "        text-align: right;\n",
              "    }\n",
              "</style>\n",
              "<table border=\"1\" class=\"dataframe\">\n",
              "  <thead>\n",
              "    <tr style=\"text-align: right;\">\n",
              "      <th></th>\n",
              "      <th>building_id</th>\n",
              "      <th>geo_level_1_id</th>\n",
              "      <th>geo_level_2_id</th>\n",
              "      <th>geo_level_3_id</th>\n",
              "      <th>count_floors_pre_eq</th>\n",
              "      <th>age</th>\n",
              "      <th>area_percentage</th>\n",
              "      <th>height_percentage</th>\n",
              "      <th>land_surface_condition</th>\n",
              "      <th>foundation_type</th>\n",
              "      <th>roof_type</th>\n",
              "      <th>ground_floor_type</th>\n",
              "      <th>other_floor_type</th>\n",
              "      <th>position</th>\n",
              "      <th>plan_configuration</th>\n",
              "      <th>has_superstructure_adobe_mud</th>\n",
              "      <th>has_superstructure_mud_mortar_stone</th>\n",
              "      <th>has_superstructure_stone_flag</th>\n",
              "      <th>has_superstructure_cement_mortar_stone</th>\n",
              "      <th>has_superstructure_mud_mortar_brick</th>\n",
              "      <th>has_superstructure_cement_mortar_brick</th>\n",
              "      <th>has_superstructure_timber</th>\n",
              "      <th>has_superstructure_bamboo</th>\n",
              "      <th>has_superstructure_rc_non_engineered</th>\n",
              "      <th>has_superstructure_rc_engineered</th>\n",
              "      <th>has_superstructure_other</th>\n",
              "      <th>legal_ownership_status</th>\n",
              "      <th>count_families</th>\n",
              "      <th>has_secondary_use</th>\n",
              "      <th>has_secondary_use_agriculture</th>\n",
              "      <th>has_secondary_use_hotel</th>\n",
              "      <th>has_secondary_use_rental</th>\n",
              "      <th>has_secondary_use_institution</th>\n",
              "      <th>has_secondary_use_school</th>\n",
              "      <th>has_secondary_use_industry</th>\n",
              "      <th>has_secondary_use_health_post</th>\n",
              "      <th>has_secondary_use_gov_office</th>\n",
              "      <th>has_secondary_use_use_police</th>\n",
              "      <th>has_secondary_use_other</th>\n",
              "    </tr>\n",
              "  </thead>\n",
              "  <tbody>\n",
              "    <tr>\n",
              "      <th>0</th>\n",
              "      <td>802906</td>\n",
              "      <td>6</td>\n",
              "      <td>487</td>\n",
              "      <td>12198</td>\n",
              "      <td>2</td>\n",
              "      <td>30</td>\n",
              "      <td>6</td>\n",
              "      <td>5</td>\n",
              "      <td>t</td>\n",
              "      <td>r</td>\n",
              "      <td>n</td>\n",
              "      <td>f</td>\n",
              "      <td>q</td>\n",
              "      <td>t</td>\n",
              "      <td>d</td>\n",
              "      <td>True</td>\n",
              "      <td>True</td>\n",
              "      <td>False</td>\n",
              "      <td>False</td>\n",
              "      <td>False</td>\n",
              "      <td>False</td>\n",
              "      <td>False</td>\n",
              "      <td>False</td>\n",
              "      <td>False</td>\n",
              "      <td>False</td>\n",
              "      <td>False</td>\n",
              "      <td>v</td>\n",
              "      <td>1</td>\n",
              "      <td>False</td>\n",
              "      <td>False</td>\n",
              "      <td>False</td>\n",
              "      <td>False</td>\n",
              "      <td>False</td>\n",
              "      <td>False</td>\n",
              "      <td>False</td>\n",
              "      <td>False</td>\n",
              "      <td>False</td>\n",
              "      <td>False</td>\n",
              "      <td>False</td>\n",
              "    </tr>\n",
              "    <tr>\n",
              "      <th>1</th>\n",
              "      <td>28830</td>\n",
              "      <td>8</td>\n",
              "      <td>900</td>\n",
              "      <td>2812</td>\n",
              "      <td>2</td>\n",
              "      <td>10</td>\n",
              "      <td>8</td>\n",
              "      <td>7</td>\n",
              "      <td>o</td>\n",
              "      <td>r</td>\n",
              "      <td>n</td>\n",
              "      <td>x</td>\n",
              "      <td>q</td>\n",
              "      <td>s</td>\n",
              "      <td>d</td>\n",
              "      <td>False</td>\n",
              "      <td>True</td>\n",
              "      <td>False</td>\n",
              "      <td>False</td>\n",
              "      <td>False</td>\n",
              "      <td>False</td>\n",
              "      <td>False</td>\n",
              "      <td>False</td>\n",
              "      <td>False</td>\n",
              "      <td>False</td>\n",
              "      <td>False</td>\n",
              "      <td>v</td>\n",
              "      <td>1</td>\n",
              "      <td>False</td>\n",
              "      <td>False</td>\n",
              "      <td>False</td>\n",
              "      <td>False</td>\n",
              "      <td>False</td>\n",
              "      <td>False</td>\n",
              "      <td>False</td>\n",
              "      <td>False</td>\n",
              "      <td>False</td>\n",
              "      <td>False</td>\n",
              "      <td>False</td>\n",
              "    </tr>\n",
              "    <tr>\n",
              "      <th>2</th>\n",
              "      <td>94947</td>\n",
              "      <td>21</td>\n",
              "      <td>363</td>\n",
              "      <td>8973</td>\n",
              "      <td>2</td>\n",
              "      <td>10</td>\n",
              "      <td>5</td>\n",
              "      <td>5</td>\n",
              "      <td>t</td>\n",
              "      <td>r</td>\n",
              "      <td>n</td>\n",
              "      <td>f</td>\n",
              "      <td>x</td>\n",
              "      <td>t</td>\n",
              "      <td>d</td>\n",
              "      <td>False</td>\n",
              "      <td>True</td>\n",
              "      <td>False</td>\n",
              "      <td>False</td>\n",
              "      <td>False</td>\n",
              "      <td>False</td>\n",
              "      <td>False</td>\n",
              "      <td>False</td>\n",
              "      <td>False</td>\n",
              "      <td>False</td>\n",
              "      <td>False</td>\n",
              "      <td>v</td>\n",
              "      <td>1</td>\n",
              "      <td>False</td>\n",
              "      <td>False</td>\n",
              "      <td>False</td>\n",
              "      <td>False</td>\n",
              "      <td>False</td>\n",
              "      <td>False</td>\n",
              "      <td>False</td>\n",
              "      <td>False</td>\n",
              "      <td>False</td>\n",
              "      <td>False</td>\n",
              "      <td>False</td>\n",
              "    </tr>\n",
              "    <tr>\n",
              "      <th>3</th>\n",
              "      <td>590882</td>\n",
              "      <td>22</td>\n",
              "      <td>418</td>\n",
              "      <td>10694</td>\n",
              "      <td>2</td>\n",
              "      <td>10</td>\n",
              "      <td>6</td>\n",
              "      <td>5</td>\n",
              "      <td>t</td>\n",
              "      <td>r</td>\n",
              "      <td>n</td>\n",
              "      <td>f</td>\n",
              "      <td>x</td>\n",
              "      <td>s</td>\n",
              "      <td>d</td>\n",
              "      <td>False</td>\n",
              "      <td>True</td>\n",
              "      <td>False</td>\n",
              "      <td>False</td>\n",
              "      <td>False</td>\n",
              "      <td>False</td>\n",
              "      <td>True</td>\n",
              "      <td>True</td>\n",
              "      <td>False</td>\n",
              "      <td>False</td>\n",
              "      <td>False</td>\n",
              "      <td>v</td>\n",
              "      <td>1</td>\n",
              "      <td>False</td>\n",
              "      <td>False</td>\n",
              "      <td>False</td>\n",
              "      <td>False</td>\n",
              "      <td>False</td>\n",
              "      <td>False</td>\n",
              "      <td>False</td>\n",
              "      <td>False</td>\n",
              "      <td>False</td>\n",
              "      <td>False</td>\n",
              "      <td>False</td>\n",
              "    </tr>\n",
              "    <tr>\n",
              "      <th>4</th>\n",
              "      <td>201944</td>\n",
              "      <td>11</td>\n",
              "      <td>131</td>\n",
              "      <td>1488</td>\n",
              "      <td>3</td>\n",
              "      <td>30</td>\n",
              "      <td>8</td>\n",
              "      <td>9</td>\n",
              "      <td>t</td>\n",
              "      <td>r</td>\n",
              "      <td>n</td>\n",
              "      <td>f</td>\n",
              "      <td>x</td>\n",
              "      <td>s</td>\n",
              "      <td>d</td>\n",
              "      <td>True</td>\n",
              "      <td>False</td>\n",
              "      <td>False</td>\n",
              "      <td>False</td>\n",
              "      <td>False</td>\n",
              "      <td>False</td>\n",
              "      <td>False</td>\n",
              "      <td>False</td>\n",
              "      <td>False</td>\n",
              "      <td>False</td>\n",
              "      <td>False</td>\n",
              "      <td>v</td>\n",
              "      <td>1</td>\n",
              "      <td>False</td>\n",
              "      <td>False</td>\n",
              "      <td>False</td>\n",
              "      <td>False</td>\n",
              "      <td>False</td>\n",
              "      <td>False</td>\n",
              "      <td>False</td>\n",
              "      <td>False</td>\n",
              "      <td>False</td>\n",
              "      <td>False</td>\n",
              "      <td>False</td>\n",
              "    </tr>\n",
              "  </tbody>\n",
              "</table>\n",
              "</div>"
            ],
            "text/plain": [
              "   building_id  ...  has_secondary_use_other\n",
              "0       802906  ...                    False\n",
              "1        28830  ...                    False\n",
              "2        94947  ...                    False\n",
              "3       590882  ...                    False\n",
              "4       201944  ...                    False\n",
              "\n",
              "[5 rows x 39 columns]"
            ]
          },
          "metadata": {
            "tags": []
          },
          "execution_count": 200
        }
      ]
    },
    {
      "cell_type": "code",
      "metadata": {
        "colab": {
          "base_uri": "https://localhost:8080/"
        },
        "id": "YvPlw_-eCHE9",
        "outputId": "1b49c4e7-c6eb-41f0-a4c1-e4ef44e39c7e"
      },
      "source": [
        "train_values_dataset.info()"
      ],
      "execution_count": null,
      "outputs": [
        {
          "output_type": "stream",
          "text": [
            "<class 'pandas.core.frame.DataFrame'>\n",
            "RangeIndex: 260601 entries, 0 to 260600\n",
            "Data columns (total 39 columns):\n",
            " #   Column                                  Non-Null Count   Dtype   \n",
            "---  ------                                  --------------   -----   \n",
            " 0   building_id                             260601 non-null  int64   \n",
            " 1   geo_level_1_id                          260601 non-null  int16   \n",
            " 2   geo_level_2_id                          260601 non-null  int16   \n",
            " 3   geo_level_3_id                          260601 non-null  int16   \n",
            " 4   count_floors_pre_eq                     260601 non-null  int16   \n",
            " 5   age                                     260601 non-null  int16   \n",
            " 6   area_percentage                         260601 non-null  int16   \n",
            " 7   height_percentage                       260601 non-null  int16   \n",
            " 8   land_surface_condition                  260601 non-null  category\n",
            " 9   foundation_type                         260601 non-null  category\n",
            " 10  roof_type                               260601 non-null  category\n",
            " 11  ground_floor_type                       260601 non-null  category\n",
            " 12  other_floor_type                        260601 non-null  category\n",
            " 13  position                                260601 non-null  category\n",
            " 14  plan_configuration                      260601 non-null  category\n",
            " 15  has_superstructure_adobe_mud            260601 non-null  bool    \n",
            " 16  has_superstructure_mud_mortar_stone     260601 non-null  bool    \n",
            " 17  has_superstructure_stone_flag           260601 non-null  bool    \n",
            " 18  has_superstructure_cement_mortar_stone  260601 non-null  bool    \n",
            " 19  has_superstructure_mud_mortar_brick     260601 non-null  bool    \n",
            " 20  has_superstructure_cement_mortar_brick  260601 non-null  bool    \n",
            " 21  has_superstructure_timber               260601 non-null  bool    \n",
            " 22  has_superstructure_bamboo               260601 non-null  bool    \n",
            " 23  has_superstructure_rc_non_engineered    260601 non-null  bool    \n",
            " 24  has_superstructure_rc_engineered        260601 non-null  bool    \n",
            " 25  has_superstructure_other                260601 non-null  bool    \n",
            " 26  legal_ownership_status                  260601 non-null  category\n",
            " 27  count_families                          260601 non-null  int16   \n",
            " 28  has_secondary_use                       260601 non-null  bool    \n",
            " 29  has_secondary_use_agriculture           260601 non-null  bool    \n",
            " 30  has_secondary_use_hotel                 260601 non-null  bool    \n",
            " 31  has_secondary_use_rental                260601 non-null  bool    \n",
            " 32  has_secondary_use_institution           260601 non-null  bool    \n",
            " 33  has_secondary_use_school                260601 non-null  bool    \n",
            " 34  has_secondary_use_industry              260601 non-null  bool    \n",
            " 35  has_secondary_use_health_post           260601 non-null  bool    \n",
            " 36  has_secondary_use_gov_office            260601 non-null  bool    \n",
            " 37  has_secondary_use_use_police            260601 non-null  bool    \n",
            " 38  has_secondary_use_other                 260601 non-null  bool    \n",
            "dtypes: bool(22), category(8), int16(8), int64(1)\n",
            "memory usage: 13.4 MB\n"
          ],
          "name": "stdout"
        }
      ]
    },
    {
      "cell_type": "markdown",
      "metadata": {
        "id": "mlUPWgqw2-Pl"
      },
      "source": [
        "### Manejo Nulos y Nan."
      ]
    },
    {
      "cell_type": "code",
      "metadata": {
        "colab": {
          "base_uri": "https://localhost:8080/"
        },
        "id": "r9WJHdoq23-D",
        "outputId": "8668c378-13e4-4199-b24a-7f2e757e4959"
      },
      "source": [
        "cantidad_edificios = train_values_dataset[\"building_id\"].count()\n",
        "cantidad_edificios"
      ],
      "execution_count": null,
      "outputs": [
        {
          "output_type": "execute_result",
          "data": {
            "text/plain": [
              "260601"
            ]
          },
          "metadata": {
            "tags": []
          },
          "execution_count": 202
        }
      ]
    },
    {
      "cell_type": "code",
      "metadata": {
        "colab": {
          "base_uri": "https://localhost:8080/"
        },
        "id": "G8IIIcHL3Gke",
        "outputId": "71351964-9653-4224-b7e6-0e302f8cf04e"
      },
      "source": [
        "# Cantidad de nulos por columna.\n",
        "train_values_dataset.isnull().sum()"
      ],
      "execution_count": null,
      "outputs": [
        {
          "output_type": "execute_result",
          "data": {
            "text/plain": [
              "building_id                               0\n",
              "geo_level_1_id                            0\n",
              "geo_level_2_id                            0\n",
              "geo_level_3_id                            0\n",
              "count_floors_pre_eq                       0\n",
              "age                                       0\n",
              "area_percentage                           0\n",
              "height_percentage                         0\n",
              "land_surface_condition                    0\n",
              "foundation_type                           0\n",
              "roof_type                                 0\n",
              "ground_floor_type                         0\n",
              "other_floor_type                          0\n",
              "position                                  0\n",
              "plan_configuration                        0\n",
              "has_superstructure_adobe_mud              0\n",
              "has_superstructure_mud_mortar_stone       0\n",
              "has_superstructure_stone_flag             0\n",
              "has_superstructure_cement_mortar_stone    0\n",
              "has_superstructure_mud_mortar_brick       0\n",
              "has_superstructure_cement_mortar_brick    0\n",
              "has_superstructure_timber                 0\n",
              "has_superstructure_bamboo                 0\n",
              "has_superstructure_rc_non_engineered      0\n",
              "has_superstructure_rc_engineered          0\n",
              "has_superstructure_other                  0\n",
              "legal_ownership_status                    0\n",
              "count_families                            0\n",
              "has_secondary_use                         0\n",
              "has_secondary_use_agriculture             0\n",
              "has_secondary_use_hotel                   0\n",
              "has_secondary_use_rental                  0\n",
              "has_secondary_use_institution             0\n",
              "has_secondary_use_school                  0\n",
              "has_secondary_use_industry                0\n",
              "has_secondary_use_health_post             0\n",
              "has_secondary_use_gov_office              0\n",
              "has_secondary_use_use_police              0\n",
              "has_secondary_use_other                   0\n",
              "dtype: int64"
            ]
          },
          "metadata": {
            "tags": []
          },
          "execution_count": 203
        }
      ]
    },
    {
      "cell_type": "code",
      "metadata": {
        "colab": {
          "base_uri": "https://localhost:8080/"
        },
        "id": "tRJCFxZm3fsr",
        "outputId": "7e222560-b162-4479-8c30-5f11e34c1382"
      },
      "source": [
        "# Cantidad de Nan por columna.\n",
        "train_values_dataset.isna().sum()"
      ],
      "execution_count": null,
      "outputs": [
        {
          "output_type": "execute_result",
          "data": {
            "text/plain": [
              "building_id                               0\n",
              "geo_level_1_id                            0\n",
              "geo_level_2_id                            0\n",
              "geo_level_3_id                            0\n",
              "count_floors_pre_eq                       0\n",
              "age                                       0\n",
              "area_percentage                           0\n",
              "height_percentage                         0\n",
              "land_surface_condition                    0\n",
              "foundation_type                           0\n",
              "roof_type                                 0\n",
              "ground_floor_type                         0\n",
              "other_floor_type                          0\n",
              "position                                  0\n",
              "plan_configuration                        0\n",
              "has_superstructure_adobe_mud              0\n",
              "has_superstructure_mud_mortar_stone       0\n",
              "has_superstructure_stone_flag             0\n",
              "has_superstructure_cement_mortar_stone    0\n",
              "has_superstructure_mud_mortar_brick       0\n",
              "has_superstructure_cement_mortar_brick    0\n",
              "has_superstructure_timber                 0\n",
              "has_superstructure_bamboo                 0\n",
              "has_superstructure_rc_non_engineered      0\n",
              "has_superstructure_rc_engineered          0\n",
              "has_superstructure_other                  0\n",
              "legal_ownership_status                    0\n",
              "count_families                            0\n",
              "has_secondary_use                         0\n",
              "has_secondary_use_agriculture             0\n",
              "has_secondary_use_hotel                   0\n",
              "has_secondary_use_rental                  0\n",
              "has_secondary_use_institution             0\n",
              "has_secondary_use_school                  0\n",
              "has_secondary_use_industry                0\n",
              "has_secondary_use_health_post             0\n",
              "has_secondary_use_gov_office              0\n",
              "has_secondary_use_use_police              0\n",
              "has_secondary_use_other                   0\n",
              "dtype: int64"
            ]
          },
          "metadata": {
            "tags": []
          },
          "execution_count": 204
        }
      ]
    },
    {
      "cell_type": "markdown",
      "metadata": {
        "id": "X-B-dqXv3lyY"
      },
      "source": [
        "### Porcentaje datos validos."
      ]
    },
    {
      "cell_type": "code",
      "metadata": {
        "colab": {
          "base_uri": "https://localhost:8080/",
          "height": 1000
        },
        "id": "7nmyBA-z3pq4",
        "outputId": "b460d2ea-9a3a-4f69-abc0-6673f03be0ca"
      },
      "source": [
        "datos_validos = train_values_dataset.count().reset_index()\n",
        "datos_validos[\"Porcentaje_datos_validos\"] = (cantidad_edificios / datos_validos[0]) * 100\n",
        "datos_validos_por_columna = datos_validos[[\"index\",\"Porcentaje_datos_validos\"]]\n",
        "datos_validos_por_columna"
      ],
      "execution_count": null,
      "outputs": [
        {
          "output_type": "execute_result",
          "data": {
            "text/html": [
              "<div>\n",
              "<style scoped>\n",
              "    .dataframe tbody tr th:only-of-type {\n",
              "        vertical-align: middle;\n",
              "    }\n",
              "\n",
              "    .dataframe tbody tr th {\n",
              "        vertical-align: top;\n",
              "    }\n",
              "\n",
              "    .dataframe thead th {\n",
              "        text-align: right;\n",
              "    }\n",
              "</style>\n",
              "<table border=\"1\" class=\"dataframe\">\n",
              "  <thead>\n",
              "    <tr style=\"text-align: right;\">\n",
              "      <th></th>\n",
              "      <th>index</th>\n",
              "      <th>Porcentaje_datos_validos</th>\n",
              "    </tr>\n",
              "  </thead>\n",
              "  <tbody>\n",
              "    <tr>\n",
              "      <th>0</th>\n",
              "      <td>building_id</td>\n",
              "      <td>100.0</td>\n",
              "    </tr>\n",
              "    <tr>\n",
              "      <th>1</th>\n",
              "      <td>geo_level_1_id</td>\n",
              "      <td>100.0</td>\n",
              "    </tr>\n",
              "    <tr>\n",
              "      <th>2</th>\n",
              "      <td>geo_level_2_id</td>\n",
              "      <td>100.0</td>\n",
              "    </tr>\n",
              "    <tr>\n",
              "      <th>3</th>\n",
              "      <td>geo_level_3_id</td>\n",
              "      <td>100.0</td>\n",
              "    </tr>\n",
              "    <tr>\n",
              "      <th>4</th>\n",
              "      <td>count_floors_pre_eq</td>\n",
              "      <td>100.0</td>\n",
              "    </tr>\n",
              "    <tr>\n",
              "      <th>5</th>\n",
              "      <td>age</td>\n",
              "      <td>100.0</td>\n",
              "    </tr>\n",
              "    <tr>\n",
              "      <th>6</th>\n",
              "      <td>area_percentage</td>\n",
              "      <td>100.0</td>\n",
              "    </tr>\n",
              "    <tr>\n",
              "      <th>7</th>\n",
              "      <td>height_percentage</td>\n",
              "      <td>100.0</td>\n",
              "    </tr>\n",
              "    <tr>\n",
              "      <th>8</th>\n",
              "      <td>land_surface_condition</td>\n",
              "      <td>100.0</td>\n",
              "    </tr>\n",
              "    <tr>\n",
              "      <th>9</th>\n",
              "      <td>foundation_type</td>\n",
              "      <td>100.0</td>\n",
              "    </tr>\n",
              "    <tr>\n",
              "      <th>10</th>\n",
              "      <td>roof_type</td>\n",
              "      <td>100.0</td>\n",
              "    </tr>\n",
              "    <tr>\n",
              "      <th>11</th>\n",
              "      <td>ground_floor_type</td>\n",
              "      <td>100.0</td>\n",
              "    </tr>\n",
              "    <tr>\n",
              "      <th>12</th>\n",
              "      <td>other_floor_type</td>\n",
              "      <td>100.0</td>\n",
              "    </tr>\n",
              "    <tr>\n",
              "      <th>13</th>\n",
              "      <td>position</td>\n",
              "      <td>100.0</td>\n",
              "    </tr>\n",
              "    <tr>\n",
              "      <th>14</th>\n",
              "      <td>plan_configuration</td>\n",
              "      <td>100.0</td>\n",
              "    </tr>\n",
              "    <tr>\n",
              "      <th>15</th>\n",
              "      <td>has_superstructure_adobe_mud</td>\n",
              "      <td>100.0</td>\n",
              "    </tr>\n",
              "    <tr>\n",
              "      <th>16</th>\n",
              "      <td>has_superstructure_mud_mortar_stone</td>\n",
              "      <td>100.0</td>\n",
              "    </tr>\n",
              "    <tr>\n",
              "      <th>17</th>\n",
              "      <td>has_superstructure_stone_flag</td>\n",
              "      <td>100.0</td>\n",
              "    </tr>\n",
              "    <tr>\n",
              "      <th>18</th>\n",
              "      <td>has_superstructure_cement_mortar_stone</td>\n",
              "      <td>100.0</td>\n",
              "    </tr>\n",
              "    <tr>\n",
              "      <th>19</th>\n",
              "      <td>has_superstructure_mud_mortar_brick</td>\n",
              "      <td>100.0</td>\n",
              "    </tr>\n",
              "    <tr>\n",
              "      <th>20</th>\n",
              "      <td>has_superstructure_cement_mortar_brick</td>\n",
              "      <td>100.0</td>\n",
              "    </tr>\n",
              "    <tr>\n",
              "      <th>21</th>\n",
              "      <td>has_superstructure_timber</td>\n",
              "      <td>100.0</td>\n",
              "    </tr>\n",
              "    <tr>\n",
              "      <th>22</th>\n",
              "      <td>has_superstructure_bamboo</td>\n",
              "      <td>100.0</td>\n",
              "    </tr>\n",
              "    <tr>\n",
              "      <th>23</th>\n",
              "      <td>has_superstructure_rc_non_engineered</td>\n",
              "      <td>100.0</td>\n",
              "    </tr>\n",
              "    <tr>\n",
              "      <th>24</th>\n",
              "      <td>has_superstructure_rc_engineered</td>\n",
              "      <td>100.0</td>\n",
              "    </tr>\n",
              "    <tr>\n",
              "      <th>25</th>\n",
              "      <td>has_superstructure_other</td>\n",
              "      <td>100.0</td>\n",
              "    </tr>\n",
              "    <tr>\n",
              "      <th>26</th>\n",
              "      <td>legal_ownership_status</td>\n",
              "      <td>100.0</td>\n",
              "    </tr>\n",
              "    <tr>\n",
              "      <th>27</th>\n",
              "      <td>count_families</td>\n",
              "      <td>100.0</td>\n",
              "    </tr>\n",
              "    <tr>\n",
              "      <th>28</th>\n",
              "      <td>has_secondary_use</td>\n",
              "      <td>100.0</td>\n",
              "    </tr>\n",
              "    <tr>\n",
              "      <th>29</th>\n",
              "      <td>has_secondary_use_agriculture</td>\n",
              "      <td>100.0</td>\n",
              "    </tr>\n",
              "    <tr>\n",
              "      <th>30</th>\n",
              "      <td>has_secondary_use_hotel</td>\n",
              "      <td>100.0</td>\n",
              "    </tr>\n",
              "    <tr>\n",
              "      <th>31</th>\n",
              "      <td>has_secondary_use_rental</td>\n",
              "      <td>100.0</td>\n",
              "    </tr>\n",
              "    <tr>\n",
              "      <th>32</th>\n",
              "      <td>has_secondary_use_institution</td>\n",
              "      <td>100.0</td>\n",
              "    </tr>\n",
              "    <tr>\n",
              "      <th>33</th>\n",
              "      <td>has_secondary_use_school</td>\n",
              "      <td>100.0</td>\n",
              "    </tr>\n",
              "    <tr>\n",
              "      <th>34</th>\n",
              "      <td>has_secondary_use_industry</td>\n",
              "      <td>100.0</td>\n",
              "    </tr>\n",
              "    <tr>\n",
              "      <th>35</th>\n",
              "      <td>has_secondary_use_health_post</td>\n",
              "      <td>100.0</td>\n",
              "    </tr>\n",
              "    <tr>\n",
              "      <th>36</th>\n",
              "      <td>has_secondary_use_gov_office</td>\n",
              "      <td>100.0</td>\n",
              "    </tr>\n",
              "    <tr>\n",
              "      <th>37</th>\n",
              "      <td>has_secondary_use_use_police</td>\n",
              "      <td>100.0</td>\n",
              "    </tr>\n",
              "    <tr>\n",
              "      <th>38</th>\n",
              "      <td>has_secondary_use_other</td>\n",
              "      <td>100.0</td>\n",
              "    </tr>\n",
              "  </tbody>\n",
              "</table>\n",
              "</div>"
            ],
            "text/plain": [
              "                                     index  Porcentaje_datos_validos\n",
              "0                              building_id                     100.0\n",
              "1                           geo_level_1_id                     100.0\n",
              "2                           geo_level_2_id                     100.0\n",
              "3                           geo_level_3_id                     100.0\n",
              "4                      count_floors_pre_eq                     100.0\n",
              "5                                      age                     100.0\n",
              "6                          area_percentage                     100.0\n",
              "7                        height_percentage                     100.0\n",
              "8                   land_surface_condition                     100.0\n",
              "9                          foundation_type                     100.0\n",
              "10                               roof_type                     100.0\n",
              "11                       ground_floor_type                     100.0\n",
              "12                        other_floor_type                     100.0\n",
              "13                                position                     100.0\n",
              "14                      plan_configuration                     100.0\n",
              "15            has_superstructure_adobe_mud                     100.0\n",
              "16     has_superstructure_mud_mortar_stone                     100.0\n",
              "17           has_superstructure_stone_flag                     100.0\n",
              "18  has_superstructure_cement_mortar_stone                     100.0\n",
              "19     has_superstructure_mud_mortar_brick                     100.0\n",
              "20  has_superstructure_cement_mortar_brick                     100.0\n",
              "21               has_superstructure_timber                     100.0\n",
              "22               has_superstructure_bamboo                     100.0\n",
              "23    has_superstructure_rc_non_engineered                     100.0\n",
              "24        has_superstructure_rc_engineered                     100.0\n",
              "25                has_superstructure_other                     100.0\n",
              "26                  legal_ownership_status                     100.0\n",
              "27                          count_families                     100.0\n",
              "28                       has_secondary_use                     100.0\n",
              "29           has_secondary_use_agriculture                     100.0\n",
              "30                 has_secondary_use_hotel                     100.0\n",
              "31                has_secondary_use_rental                     100.0\n",
              "32           has_secondary_use_institution                     100.0\n",
              "33                has_secondary_use_school                     100.0\n",
              "34              has_secondary_use_industry                     100.0\n",
              "35           has_secondary_use_health_post                     100.0\n",
              "36            has_secondary_use_gov_office                     100.0\n",
              "37            has_secondary_use_use_police                     100.0\n",
              "38                 has_secondary_use_other                     100.0"
            ]
          },
          "metadata": {
            "tags": []
          },
          "execution_count": 205
        }
      ]
    },
    {
      "cell_type": "markdown",
      "metadata": {
        "id": "5TyemhEC5uoC"
      },
      "source": [
        "### Analisis Segun Edad"
      ]
    },
    {
      "cell_type": "markdown",
      "metadata": {
        "id": "hfNnyL5R_bER"
      },
      "source": [
        "#### Filtrado datos y merge."
      ]
    },
    {
      "cell_type": "code",
      "metadata": {
        "colab": {
          "base_uri": "https://localhost:8080/",
          "height": 80
        },
        "id": "lhRFPSn650n8",
        "outputId": "f15b2e01-564e-4964-d8db-b920d61656c8"
      },
      "source": [
        "datos_edad = train_values_dataset[[\"building_id\", \"age\"]]\n",
        "datos_edad_merged = pd.merge(left=datos_edad, right=train_labels_dataset, how=\"inner\", on=\"building_id\")\n",
        "datos_edad_filtrados = datos_edad_merged[[\"damage_grade\", \"age\"]]\n",
        "datos_edad_filtrados.head(1)"
      ],
      "execution_count": null,
      "outputs": [
        {
          "output_type": "execute_result",
          "data": {
            "text/html": [
              "<div>\n",
              "<style scoped>\n",
              "    .dataframe tbody tr th:only-of-type {\n",
              "        vertical-align: middle;\n",
              "    }\n",
              "\n",
              "    .dataframe tbody tr th {\n",
              "        vertical-align: top;\n",
              "    }\n",
              "\n",
              "    .dataframe thead th {\n",
              "        text-align: right;\n",
              "    }\n",
              "</style>\n",
              "<table border=\"1\" class=\"dataframe\">\n",
              "  <thead>\n",
              "    <tr style=\"text-align: right;\">\n",
              "      <th></th>\n",
              "      <th>damage_grade</th>\n",
              "      <th>age</th>\n",
              "    </tr>\n",
              "  </thead>\n",
              "  <tbody>\n",
              "    <tr>\n",
              "      <th>0</th>\n",
              "      <td>3</td>\n",
              "      <td>30</td>\n",
              "    </tr>\n",
              "  </tbody>\n",
              "</table>\n",
              "</div>"
            ],
            "text/plain": [
              "   damage_grade  age\n",
              "0             3   30"
            ]
          },
          "metadata": {
            "tags": []
          },
          "execution_count": 206
        }
      ]
    },
    {
      "cell_type": "markdown",
      "metadata": {
        "id": "n8OiWAp76eYB"
      },
      "source": [
        "#### Edades comparadas a promedio segun damage_grade."
      ]
    },
    {
      "cell_type": "code",
      "metadata": {
        "colab": {
          "base_uri": "https://localhost:8080/",
          "height": 142
        },
        "id": "YFbOp2SA6iHG",
        "outputId": "50b01f5b-8079-4994-98cc-d2b714721857"
      },
      "source": [
        "datos_promedio = datos_edad_filtrados\n",
        "datos_promedio[\"Supera_Promedio_Edad\"] = datos_promedio[\"age\"] > datos_promedio[\"age\"].mean()\n",
        "datos_promedio[\"Debajo_Promedio_Edad\"] = datos_promedio[\"age\"] <= datos_promedio[\"age\"].mean()\n",
        "datos_promedio_final = datos_promedio.groupby(\"damage_grade\").agg({\"Supera_Promedio_Edad\": \"count\", \"Debajo_Promedio_Edad\": \"count\"}).reset_index()\n",
        "datos_promedio_final"
      ],
      "execution_count": null,
      "outputs": [
        {
          "output_type": "execute_result",
          "data": {
            "text/html": [
              "<div>\n",
              "<style scoped>\n",
              "    .dataframe tbody tr th:only-of-type {\n",
              "        vertical-align: middle;\n",
              "    }\n",
              "\n",
              "    .dataframe tbody tr th {\n",
              "        vertical-align: top;\n",
              "    }\n",
              "\n",
              "    .dataframe thead th {\n",
              "        text-align: right;\n",
              "    }\n",
              "</style>\n",
              "<table border=\"1\" class=\"dataframe\">\n",
              "  <thead>\n",
              "    <tr style=\"text-align: right;\">\n",
              "      <th></th>\n",
              "      <th>damage_grade</th>\n",
              "      <th>Supera_Promedio_Edad</th>\n",
              "      <th>Debajo_Promedio_Edad</th>\n",
              "    </tr>\n",
              "  </thead>\n",
              "  <tbody>\n",
              "    <tr>\n",
              "      <th>0</th>\n",
              "      <td>1</td>\n",
              "      <td>25124</td>\n",
              "      <td>25124</td>\n",
              "    </tr>\n",
              "    <tr>\n",
              "      <th>1</th>\n",
              "      <td>2</td>\n",
              "      <td>148259</td>\n",
              "      <td>148259</td>\n",
              "    </tr>\n",
              "    <tr>\n",
              "      <th>2</th>\n",
              "      <td>3</td>\n",
              "      <td>87218</td>\n",
              "      <td>87218</td>\n",
              "    </tr>\n",
              "  </tbody>\n",
              "</table>\n",
              "</div>"
            ],
            "text/plain": [
              "   damage_grade  Supera_Promedio_Edad  Debajo_Promedio_Edad\n",
              "0             1                 25124                 25124\n",
              "1             2                148259                148259\n",
              "2             3                 87218                 87218"
            ]
          },
          "metadata": {
            "tags": []
          },
          "execution_count": 207
        }
      ]
    },
    {
      "cell_type": "markdown",
      "metadata": {
        "id": "wn_vojIh7tZp"
      },
      "source": [
        "#### Rango edades segun damage_grade."
      ]
    },
    {
      "cell_type": "code",
      "metadata": {
        "id": "FxOBZddz7r46"
      },
      "source": [
        "# Obtengo los rangos de edad segun el damage grade, para edificios entre 0 a 100 anios.\n",
        "datos_rangos = datos_edad_filtrados\n",
        "datos_rangos[\"Damage_3\"] = datos_rangos[\"damage_grade\"] == 3\n",
        "datos_rangos[\"Damage_2\"] = datos_rangos[\"damage_grade\"] == 2\n",
        "datos_rangos[\"Damage_1\"] = datos_rangos[\"damage_grade\"] == 1\n",
        "datos_rangos_final = datos_rangos.groupby(\"age\").agg({\"Damage_3\" : \"sum\", \"Damage_2\" : \"sum\", \"Damage_1\" : \"sum\"}).reset_index()\n"
      ],
      "execution_count": null,
      "outputs": []
    },
    {
      "cell_type": "markdown",
      "metadata": {
        "id": "yuz6emN8m5LK"
      },
      "source": [
        "##### Rangos menores a 100 anios."
      ]
    },
    {
      "cell_type": "code",
      "metadata": {
        "colab": {
          "base_uri": "https://localhost:8080/",
          "height": 204
        },
        "id": "IsbnY3Q_m_ZP",
        "outputId": "211364c7-f980-42da-8452-2d7c8c838e11"
      },
      "source": [
        "datos_rangos_edad_menor_100 = datos_rangos_final[datos_rangos_final[\"age\"] <= 100]\n",
        "datos_rangos_edad_menor_100.head(5)"
      ],
      "execution_count": null,
      "outputs": [
        {
          "output_type": "execute_result",
          "data": {
            "text/html": [
              "<div>\n",
              "<style scoped>\n",
              "    .dataframe tbody tr th:only-of-type {\n",
              "        vertical-align: middle;\n",
              "    }\n",
              "\n",
              "    .dataframe tbody tr th {\n",
              "        vertical-align: top;\n",
              "    }\n",
              "\n",
              "    .dataframe thead th {\n",
              "        text-align: right;\n",
              "    }\n",
              "</style>\n",
              "<table border=\"1\" class=\"dataframe\">\n",
              "  <thead>\n",
              "    <tr style=\"text-align: right;\">\n",
              "      <th></th>\n",
              "      <th>age</th>\n",
              "      <th>Damage_3</th>\n",
              "      <th>Damage_2</th>\n",
              "      <th>Damage_1</th>\n",
              "    </tr>\n",
              "  </thead>\n",
              "  <tbody>\n",
              "    <tr>\n",
              "      <th>0</th>\n",
              "      <td>0</td>\n",
              "      <td>6107</td>\n",
              "      <td>12721</td>\n",
              "      <td>7213</td>\n",
              "    </tr>\n",
              "    <tr>\n",
              "      <th>1</th>\n",
              "      <td>5</td>\n",
              "      <td>9077</td>\n",
              "      <td>19030</td>\n",
              "      <td>5590</td>\n",
              "    </tr>\n",
              "    <tr>\n",
              "      <th>2</th>\n",
              "      <td>10</td>\n",
              "      <td>12166</td>\n",
              "      <td>22370</td>\n",
              "      <td>4360</td>\n",
              "    </tr>\n",
              "    <tr>\n",
              "      <th>3</th>\n",
              "      <td>15</td>\n",
              "      <td>12365</td>\n",
              "      <td>20767</td>\n",
              "      <td>2878</td>\n",
              "    </tr>\n",
              "    <tr>\n",
              "      <th>4</th>\n",
              "      <td>20</td>\n",
              "      <td>11625</td>\n",
              "      <td>18603</td>\n",
              "      <td>1954</td>\n",
              "    </tr>\n",
              "  </tbody>\n",
              "</table>\n",
              "</div>"
            ],
            "text/plain": [
              "   age  Damage_3  Damage_2  Damage_1\n",
              "0    0      6107     12721      7213\n",
              "1    5      9077     19030      5590\n",
              "2   10     12166     22370      4360\n",
              "3   15     12365     20767      2878\n",
              "4   20     11625     18603      1954"
            ]
          },
          "metadata": {
            "tags": []
          },
          "execution_count": 209
        }
      ]
    },
    {
      "cell_type": "markdown",
      "metadata": {
        "id": "jMIVEceAmydP"
      },
      "source": [
        "##### Rangos mayores a 100 anios."
      ]
    },
    {
      "cell_type": "code",
      "metadata": {
        "colab": {
          "base_uri": "https://localhost:8080/",
          "height": 204
        },
        "id": "G2z8MR_3mnQf",
        "outputId": "ad42614e-7fb7-4361-fd1b-f8fac8338b80"
      },
      "source": [
        "datos_rangos_edad_mayor_100 = datos_rangos_final[datos_rangos_final[\"age\"] > 100]\n",
        "datos_rangos_edad_mayor_100.head(5)"
      ],
      "execution_count": null,
      "outputs": [
        {
          "output_type": "execute_result",
          "data": {
            "text/html": [
              "<div>\n",
              "<style scoped>\n",
              "    .dataframe tbody tr th:only-of-type {\n",
              "        vertical-align: middle;\n",
              "    }\n",
              "\n",
              "    .dataframe tbody tr th {\n",
              "        vertical-align: top;\n",
              "    }\n",
              "\n",
              "    .dataframe thead th {\n",
              "        text-align: right;\n",
              "    }\n",
              "</style>\n",
              "<table border=\"1\" class=\"dataframe\">\n",
              "  <thead>\n",
              "    <tr style=\"text-align: right;\">\n",
              "      <th></th>\n",
              "      <th>age</th>\n",
              "      <th>Damage_3</th>\n",
              "      <th>Damage_2</th>\n",
              "      <th>Damage_1</th>\n",
              "    </tr>\n",
              "  </thead>\n",
              "  <tbody>\n",
              "    <tr>\n",
              "      <th>21</th>\n",
              "      <td>105</td>\n",
              "      <td>32</td>\n",
              "      <td>56</td>\n",
              "      <td>1</td>\n",
              "    </tr>\n",
              "    <tr>\n",
              "      <th>22</th>\n",
              "      <td>110</td>\n",
              "      <td>35</td>\n",
              "      <td>64</td>\n",
              "      <td>1</td>\n",
              "    </tr>\n",
              "    <tr>\n",
              "      <th>23</th>\n",
              "      <td>115</td>\n",
              "      <td>10</td>\n",
              "      <td>10</td>\n",
              "      <td>1</td>\n",
              "    </tr>\n",
              "    <tr>\n",
              "      <th>24</th>\n",
              "      <td>120</td>\n",
              "      <td>80</td>\n",
              "      <td>98</td>\n",
              "      <td>2</td>\n",
              "    </tr>\n",
              "    <tr>\n",
              "      <th>25</th>\n",
              "      <td>125</td>\n",
              "      <td>11</td>\n",
              "      <td>26</td>\n",
              "      <td>0</td>\n",
              "    </tr>\n",
              "  </tbody>\n",
              "</table>\n",
              "</div>"
            ],
            "text/plain": [
              "    age  Damage_3  Damage_2  Damage_1\n",
              "21  105        32        56         1\n",
              "22  110        35        64         1\n",
              "23  115        10        10         1\n",
              "24  120        80        98         2\n",
              "25  125        11        26         0"
            ]
          },
          "metadata": {
            "tags": []
          },
          "execution_count": 210
        }
      ]
    },
    {
      "cell_type": "markdown",
      "metadata": {
        "id": "dQoqpNL3Uv5-"
      },
      "source": [
        "### Analisis materiales"
      ]
    },
    {
      "cell_type": "markdown",
      "metadata": {
        "id": "nrh28dlNA4HC"
      },
      "source": [
        "*  hay algun nivel de daño en comun para todos los materiales?\n",
        "*   cual es el promedio de daño para cada material?\n",
        "*   cual es el material que mas daño tuvo?\n",
        "\n"
      ]
    },
    {
      "cell_type": "code",
      "metadata": {
        "id": "lq1xg7ffxu9m"
      },
      "source": [
        "danio_y_materiales = ['damage_grade','has_superstructure_adobe_mud','has_superstructure_mud_mortar_stone','has_superstructure_stone_flag'\\\n",
        ",'has_superstructure_cement_mortar_stone','has_superstructure_mud_mortar_brick','has_superstructure_cement_mortar_brick','has_superstructure_timber'\\\n",
        ",'has_superstructure_bamboo','has_superstructure_rc_non_engineered', 'has_superstructure_rc_engineered','has_superstructure_other']"
      ],
      "execution_count": null,
      "outputs": []
    },
    {
      "cell_type": "code",
      "metadata": {
        "id": "U-6-NNTwzaRu"
      },
      "source": [
        "materiales = ['has_superstructure_adobe_mud','has_superstructure_mud_mortar_stone','has_superstructure_stone_flag'\\\n",
        ",'has_superstructure_cement_mortar_stone','has_superstructure_mud_mortar_brick','has_superstructure_mud_mortar_brick','has_superstructure_timber'\\\n",
        ",'has_superstructure_bamboo','has_superstructure_rc_non_engineered', 'has_superstructure_rc_engineered','has_superstructure_other']"
      ],
      "execution_count": null,
      "outputs": []
    },
    {
      "cell_type": "code",
      "metadata": {
        "id": "wC1Meth08vEJ"
      },
      "source": [
        "usos_edificios = ['agricultura','hoteleria','renta','institucional','escolar','industial','salud','gobierno','policial', 'otro']"
      ],
      "execution_count": null,
      "outputs": []
    },
    {
      "cell_type": "code",
      "metadata": {
        "id": "_QuTegrv9l5z"
      },
      "source": [
        "nombres_x = ('barro/adobe', 'barro-piedra', \\\n",
        "'piedra', 'cemento-piedra', 'barro-ladrillo', 'cemento-ladrillo', 'timber','bambú', 'concreto no diseñado','concreto diseñado','otro')"
      ],
      "execution_count": null,
      "outputs": []
    },
    {
      "cell_type": "code",
      "metadata": {
        "id": "rqWou2fvpNkt"
      },
      "source": [
        "df_con_damage = train_labels_dataset.merge(train_values_dataset, how= 'inner')\n",
        "df_danio_y_materiales = df_con_damage.loc[:,danio_y_materiales]"
      ],
      "execution_count": null,
      "outputs": []
    },
    {
      "cell_type": "code",
      "metadata": {
        "colab": {
          "base_uri": "https://localhost:8080/",
          "height": 439
        },
        "id": "RhgbLHLTdTI1",
        "outputId": "2c640f4c-4b15-4c52-ad03-fce51fbc8d5c"
      },
      "source": [
        "df_media_materiales = df_con_damage.loc[:, danio_y_materiales].apply(lambda x: x * list(df_con_damage['damage_grade'])).replace(0, np.nan)\n",
        "del df_media_materiales['damage_grade']\n",
        "df_media_materiales"
      ],
      "execution_count": null,
      "outputs": [
        {
          "output_type": "execute_result",
          "data": {
            "text/html": [
              "<div>\n",
              "<style scoped>\n",
              "    .dataframe tbody tr th:only-of-type {\n",
              "        vertical-align: middle;\n",
              "    }\n",
              "\n",
              "    .dataframe tbody tr th {\n",
              "        vertical-align: top;\n",
              "    }\n",
              "\n",
              "    .dataframe thead th {\n",
              "        text-align: right;\n",
              "    }\n",
              "</style>\n",
              "<table border=\"1\" class=\"dataframe\">\n",
              "  <thead>\n",
              "    <tr style=\"text-align: right;\">\n",
              "      <th></th>\n",
              "      <th>has_superstructure_adobe_mud</th>\n",
              "      <th>has_superstructure_mud_mortar_stone</th>\n",
              "      <th>has_superstructure_stone_flag</th>\n",
              "      <th>has_superstructure_cement_mortar_stone</th>\n",
              "      <th>has_superstructure_mud_mortar_brick</th>\n",
              "      <th>has_superstructure_cement_mortar_brick</th>\n",
              "      <th>has_superstructure_timber</th>\n",
              "      <th>has_superstructure_bamboo</th>\n",
              "      <th>has_superstructure_rc_non_engineered</th>\n",
              "      <th>has_superstructure_rc_engineered</th>\n",
              "      <th>has_superstructure_other</th>\n",
              "    </tr>\n",
              "  </thead>\n",
              "  <tbody>\n",
              "    <tr>\n",
              "      <th>0</th>\n",
              "      <td>3.0</td>\n",
              "      <td>3.0</td>\n",
              "      <td>NaN</td>\n",
              "      <td>NaN</td>\n",
              "      <td>NaN</td>\n",
              "      <td>NaN</td>\n",
              "      <td>NaN</td>\n",
              "      <td>NaN</td>\n",
              "      <td>NaN</td>\n",
              "      <td>NaN</td>\n",
              "      <td>NaN</td>\n",
              "    </tr>\n",
              "    <tr>\n",
              "      <th>1</th>\n",
              "      <td>NaN</td>\n",
              "      <td>2.0</td>\n",
              "      <td>NaN</td>\n",
              "      <td>NaN</td>\n",
              "      <td>NaN</td>\n",
              "      <td>NaN</td>\n",
              "      <td>NaN</td>\n",
              "      <td>NaN</td>\n",
              "      <td>NaN</td>\n",
              "      <td>NaN</td>\n",
              "      <td>NaN</td>\n",
              "    </tr>\n",
              "    <tr>\n",
              "      <th>2</th>\n",
              "      <td>NaN</td>\n",
              "      <td>3.0</td>\n",
              "      <td>NaN</td>\n",
              "      <td>NaN</td>\n",
              "      <td>NaN</td>\n",
              "      <td>NaN</td>\n",
              "      <td>NaN</td>\n",
              "      <td>NaN</td>\n",
              "      <td>NaN</td>\n",
              "      <td>NaN</td>\n",
              "      <td>NaN</td>\n",
              "    </tr>\n",
              "    <tr>\n",
              "      <th>3</th>\n",
              "      <td>NaN</td>\n",
              "      <td>2.0</td>\n",
              "      <td>NaN</td>\n",
              "      <td>NaN</td>\n",
              "      <td>NaN</td>\n",
              "      <td>NaN</td>\n",
              "      <td>2.0</td>\n",
              "      <td>2.0</td>\n",
              "      <td>NaN</td>\n",
              "      <td>NaN</td>\n",
              "      <td>NaN</td>\n",
              "    </tr>\n",
              "    <tr>\n",
              "      <th>4</th>\n",
              "      <td>3.0</td>\n",
              "      <td>NaN</td>\n",
              "      <td>NaN</td>\n",
              "      <td>NaN</td>\n",
              "      <td>NaN</td>\n",
              "      <td>NaN</td>\n",
              "      <td>NaN</td>\n",
              "      <td>NaN</td>\n",
              "      <td>NaN</td>\n",
              "      <td>NaN</td>\n",
              "      <td>NaN</td>\n",
              "    </tr>\n",
              "    <tr>\n",
              "      <th>...</th>\n",
              "      <td>...</td>\n",
              "      <td>...</td>\n",
              "      <td>...</td>\n",
              "      <td>...</td>\n",
              "      <td>...</td>\n",
              "      <td>...</td>\n",
              "      <td>...</td>\n",
              "      <td>...</td>\n",
              "      <td>...</td>\n",
              "      <td>...</td>\n",
              "      <td>...</td>\n",
              "    </tr>\n",
              "    <tr>\n",
              "      <th>260596</th>\n",
              "      <td>NaN</td>\n",
              "      <td>2.0</td>\n",
              "      <td>NaN</td>\n",
              "      <td>NaN</td>\n",
              "      <td>NaN</td>\n",
              "      <td>NaN</td>\n",
              "      <td>NaN</td>\n",
              "      <td>NaN</td>\n",
              "      <td>NaN</td>\n",
              "      <td>NaN</td>\n",
              "      <td>NaN</td>\n",
              "    </tr>\n",
              "    <tr>\n",
              "      <th>260597</th>\n",
              "      <td>NaN</td>\n",
              "      <td>3.0</td>\n",
              "      <td>NaN</td>\n",
              "      <td>NaN</td>\n",
              "      <td>NaN</td>\n",
              "      <td>NaN</td>\n",
              "      <td>NaN</td>\n",
              "      <td>NaN</td>\n",
              "      <td>NaN</td>\n",
              "      <td>NaN</td>\n",
              "      <td>NaN</td>\n",
              "    </tr>\n",
              "    <tr>\n",
              "      <th>260598</th>\n",
              "      <td>NaN</td>\n",
              "      <td>3.0</td>\n",
              "      <td>NaN</td>\n",
              "      <td>NaN</td>\n",
              "      <td>NaN</td>\n",
              "      <td>NaN</td>\n",
              "      <td>NaN</td>\n",
              "      <td>NaN</td>\n",
              "      <td>NaN</td>\n",
              "      <td>NaN</td>\n",
              "      <td>NaN</td>\n",
              "    </tr>\n",
              "    <tr>\n",
              "      <th>260599</th>\n",
              "      <td>NaN</td>\n",
              "      <td>NaN</td>\n",
              "      <td>NaN</td>\n",
              "      <td>NaN</td>\n",
              "      <td>NaN</td>\n",
              "      <td>2.0</td>\n",
              "      <td>NaN</td>\n",
              "      <td>NaN</td>\n",
              "      <td>NaN</td>\n",
              "      <td>NaN</td>\n",
              "      <td>NaN</td>\n",
              "    </tr>\n",
              "    <tr>\n",
              "      <th>260600</th>\n",
              "      <td>NaN</td>\n",
              "      <td>3.0</td>\n",
              "      <td>NaN</td>\n",
              "      <td>NaN</td>\n",
              "      <td>NaN</td>\n",
              "      <td>NaN</td>\n",
              "      <td>NaN</td>\n",
              "      <td>NaN</td>\n",
              "      <td>NaN</td>\n",
              "      <td>NaN</td>\n",
              "      <td>NaN</td>\n",
              "    </tr>\n",
              "  </tbody>\n",
              "</table>\n",
              "<p>260601 rows × 11 columns</p>\n",
              "</div>"
            ],
            "text/plain": [
              "        has_superstructure_adobe_mud  ...  has_superstructure_other\n",
              "0                                3.0  ...                       NaN\n",
              "1                                NaN  ...                       NaN\n",
              "2                                NaN  ...                       NaN\n",
              "3                                NaN  ...                       NaN\n",
              "4                                3.0  ...                       NaN\n",
              "...                              ...  ...                       ...\n",
              "260596                           NaN  ...                       NaN\n",
              "260597                           NaN  ...                       NaN\n",
              "260598                           NaN  ...                       NaN\n",
              "260599                           NaN  ...                       NaN\n",
              "260600                           NaN  ...                       NaN\n",
              "\n",
              "[260601 rows x 11 columns]"
            ]
          },
          "metadata": {
            "tags": []
          },
          "execution_count": 216
        }
      ]
    },
    {
      "cell_type": "code",
      "metadata": {
        "colab": {
          "base_uri": "https://localhost:8080/",
          "height": 815
        },
        "id": "SBQO2qqlXiDK",
        "outputId": "a85e9c97-a95c-4a01-94c0-2fb6c552bdcf"
      },
      "source": [
        "df_media_materiales.mean().plot(kind = 'bar',xlabel= 'Material', ylabel = 'Cantidad',\\\n",
        "title = 'DAÑO PROMEDIO PARA CADA MATERIAL', color = '#9ACD32').set_xticklabels(nombres_x)"
      ],
      "execution_count": null,
      "outputs": [
        {
          "output_type": "execute_result",
          "data": {
            "text/plain": [
              "[Text(0, 0, 'barro/adobe'),\n",
              " Text(0, 0, 'barro-piedra'),\n",
              " Text(0, 0, 'piedra'),\n",
              " Text(0, 0, 'cemento-piedra'),\n",
              " Text(0, 0, 'barro-ladrillo'),\n",
              " Text(0, 0, 'cemento-ladrillo'),\n",
              " Text(0, 0, 'timber'),\n",
              " Text(0, 0, 'bambú'),\n",
              " Text(0, 0, 'concreto no diseñado'),\n",
              " Text(0, 0, 'concreto diseñado'),\n",
              " Text(0, 0, 'otro')]"
            ]
          },
          "metadata": {
            "tags": []
          },
          "execution_count": 217
        },
        {
          "output_type": "display_data",
          "data": {
            "image/png": "[encoded data removed]",
            "text/plain": [
              "<Figure size 720x576 with 1 Axes>"
            ]
          },
          "metadata": {
            "tags": []
          }
        }
      ]
    },
    {
      "cell_type": "code",
      "metadata": {
        "colab": {
          "base_uri": "https://localhost:8080/",
          "height": 193
        },
        "id": "1V77LA66deed",
        "outputId": "6e2764d4-27fd-4cf4-aeed-a6f220d8f073"
      },
      "source": [
        "df_cantidad_materiales_damage = df_danio_y_materiales.groupby('damage_grade').sum()\n",
        "df_cantidad_materiales_damage"
      ],
      "execution_count": null,
      "outputs": [
        {
          "output_type": "execute_result",
          "data": {
            "text/html": [
              "<div>\n",
              "<style scoped>\n",
              "    .dataframe tbody tr th:only-of-type {\n",
              "        vertical-align: middle;\n",
              "    }\n",
              "\n",
              "    .dataframe tbody tr th {\n",
              "        vertical-align: top;\n",
              "    }\n",
              "\n",
              "    .dataframe thead th {\n",
              "        text-align: right;\n",
              "    }\n",
              "</style>\n",
              "<table border=\"1\" class=\"dataframe\">\n",
              "  <thead>\n",
              "    <tr style=\"text-align: right;\">\n",
              "      <th></th>\n",
              "      <th>has_superstructure_adobe_mud</th>\n",
              "      <th>has_superstructure_mud_mortar_stone</th>\n",
              "      <th>has_superstructure_stone_flag</th>\n",
              "      <th>has_superstructure_cement_mortar_stone</th>\n",
              "      <th>has_superstructure_mud_mortar_brick</th>\n",
              "      <th>has_superstructure_cement_mortar_brick</th>\n",
              "      <th>has_superstructure_timber</th>\n",
              "      <th>has_superstructure_bamboo</th>\n",
              "      <th>has_superstructure_rc_non_engineered</th>\n",
              "      <th>has_superstructure_rc_engineered</th>\n",
              "      <th>has_superstructure_other</th>\n",
              "    </tr>\n",
              "    <tr>\n",
              "      <th>damage_grade</th>\n",
              "      <th></th>\n",
              "      <th></th>\n",
              "      <th></th>\n",
              "      <th></th>\n",
              "      <th></th>\n",
              "      <th></th>\n",
              "      <th></th>\n",
              "      <th></th>\n",
              "      <th></th>\n",
              "      <th></th>\n",
              "      <th></th>\n",
              "    </tr>\n",
              "  </thead>\n",
              "  <tbody>\n",
              "    <tr>\n",
              "      <th>1</th>\n",
              "      <td>594</td>\n",
              "      <td>8760</td>\n",
              "      <td>182</td>\n",
              "      <td>829</td>\n",
              "      <td>623</td>\n",
              "      <td>7105</td>\n",
              "      <td>7642</td>\n",
              "      <td>2839</td>\n",
              "      <td>3857</td>\n",
              "      <td>2656</td>\n",
              "      <td>656</td>\n",
              "    </tr>\n",
              "    <tr>\n",
              "      <th>2</th>\n",
              "      <td>13902</td>\n",
              "      <td>113947</td>\n",
              "      <td>4534</td>\n",
              "      <td>3248</td>\n",
              "      <td>11698</td>\n",
              "      <td>11421</td>\n",
              "      <td>40187</td>\n",
              "      <td>14001</td>\n",
              "      <td>5832</td>\n",
              "      <td>1402</td>\n",
              "      <td>2248</td>\n",
              "    </tr>\n",
              "    <tr>\n",
              "      <th>3</th>\n",
              "      <td>8605</td>\n",
              "      <td>75854</td>\n",
              "      <td>4231</td>\n",
              "      <td>675</td>\n",
              "      <td>5440</td>\n",
              "      <td>1089</td>\n",
              "      <td>18621</td>\n",
              "      <td>5314</td>\n",
              "      <td>1410</td>\n",
              "      <td>75</td>\n",
              "      <td>1001</td>\n",
              "    </tr>\n",
              "  </tbody>\n",
              "</table>\n",
              "</div>"
            ],
            "text/plain": [
              "              has_superstructure_adobe_mud  ...  has_superstructure_other\n",
              "damage_grade                                ...                          \n",
              "1                                      594  ...                       656\n",
              "2                                    13902  ...                      2248\n",
              "3                                     8605  ...                      1001\n",
              "\n",
              "[3 rows x 11 columns]"
            ]
          },
          "metadata": {
            "tags": []
          },
          "execution_count": 218
        }
      ]
    },
    {
      "cell_type": "code",
      "metadata": {
        "colab": {
          "base_uri": "https://localhost:8080/",
          "height": 815
        },
        "id": "aqn4uZZJpNhT",
        "outputId": "1a983901-107f-4b64-85aa-30124db13dad"
      },
      "source": [
        "df_cantidad_materiales_damage.T.plot(kind= 'bar',title = 'CANTIDAD DE MATERIALES PARA CADA DAMAGE GRADE',\\\n",
        "xlabel= 'Materiales', ylabel = 'Cantidad').set_xticklabels(nombres_x)"
      ],
      "execution_count": null,
      "outputs": [
        {
          "output_type": "execute_result",
          "data": {
            "text/plain": [
              "[Text(0, 0, 'barro/adobe'),\n",
              " Text(0, 0, 'barro-piedra'),\n",
              " Text(0, 0, 'piedra'),\n",
              " Text(0, 0, 'cemento-piedra'),\n",
              " Text(0, 0, 'barro-ladrillo'),\n",
              " Text(0, 0, 'cemento-ladrillo'),\n",
              " Text(0, 0, 'timber'),\n",
              " Text(0, 0, 'bambú'),\n",
              " Text(0, 0, 'concreto no diseñado'),\n",
              " Text(0, 0, 'concreto diseñado'),\n",
              " Text(0, 0, 'otro')]"
            ]
          },
          "metadata": {
            "tags": []
          },
          "execution_count": 219
        },
        {
          "output_type": "display_data",
          "data": {
            "image/png": "[encoded data removed]",
            "text/plain": [
              "<Figure size 720x576 with 1 Axes>"
            ]
          },
          "metadata": {
            "tags": []
          }
        }
      ]
    },
    {
      "cell_type": "code",
      "metadata": {
        "colab": {
          "base_uri": "https://localhost:8080/",
          "height": 193
        },
        "id": "5cCRZo8rdn-_",
        "outputId": "62ef9437-a860-4b4a-ce03-d6195b89dc9b"
      },
      "source": [
        "df = df_danio_y_materiales.groupby('damage_grade').sum()\n",
        "df"
      ],
      "execution_count": null,
      "outputs": [
        {
          "output_type": "execute_result",
          "data": {
            "text/html": [
              "<div>\n",
              "<style scoped>\n",
              "    .dataframe tbody tr th:only-of-type {\n",
              "        vertical-align: middle;\n",
              "    }\n",
              "\n",
              "    .dataframe tbody tr th {\n",
              "        vertical-align: top;\n",
              "    }\n",
              "\n",
              "    .dataframe thead th {\n",
              "        text-align: right;\n",
              "    }\n",
              "</style>\n",
              "<table border=\"1\" class=\"dataframe\">\n",
              "  <thead>\n",
              "    <tr style=\"text-align: right;\">\n",
              "      <th></th>\n",
              "      <th>has_superstructure_adobe_mud</th>\n",
              "      <th>has_superstructure_mud_mortar_stone</th>\n",
              "      <th>has_superstructure_stone_flag</th>\n",
              "      <th>has_superstructure_cement_mortar_stone</th>\n",
              "      <th>has_superstructure_mud_mortar_brick</th>\n",
              "      <th>has_superstructure_cement_mortar_brick</th>\n",
              "      <th>has_superstructure_timber</th>\n",
              "      <th>has_superstructure_bamboo</th>\n",
              "      <th>has_superstructure_rc_non_engineered</th>\n",
              "      <th>has_superstructure_rc_engineered</th>\n",
              "      <th>has_superstructure_other</th>\n",
              "    </tr>\n",
              "    <tr>\n",
              "      <th>damage_grade</th>\n",
              "      <th></th>\n",
              "      <th></th>\n",
              "      <th></th>\n",
              "      <th></th>\n",
              "      <th></th>\n",
              "      <th></th>\n",
              "      <th></th>\n",
              "      <th></th>\n",
              "      <th></th>\n",
              "      <th></th>\n",
              "      <th></th>\n",
              "    </tr>\n",
              "  </thead>\n",
              "  <tbody>\n",
              "    <tr>\n",
              "      <th>1</th>\n",
              "      <td>594</td>\n",
              "      <td>8760</td>\n",
              "      <td>182</td>\n",
              "      <td>829</td>\n",
              "      <td>623</td>\n",
              "      <td>7105</td>\n",
              "      <td>7642</td>\n",
              "      <td>2839</td>\n",
              "      <td>3857</td>\n",
              "      <td>2656</td>\n",
              "      <td>656</td>\n",
              "    </tr>\n",
              "    <tr>\n",
              "      <th>2</th>\n",
              "      <td>13902</td>\n",
              "      <td>113947</td>\n",
              "      <td>4534</td>\n",
              "      <td>3248</td>\n",
              "      <td>11698</td>\n",
              "      <td>11421</td>\n",
              "      <td>40187</td>\n",
              "      <td>14001</td>\n",
              "      <td>5832</td>\n",
              "      <td>1402</td>\n",
              "      <td>2248</td>\n",
              "    </tr>\n",
              "    <tr>\n",
              "      <th>3</th>\n",
              "      <td>8605</td>\n",
              "      <td>75854</td>\n",
              "      <td>4231</td>\n",
              "      <td>675</td>\n",
              "      <td>5440</td>\n",
              "      <td>1089</td>\n",
              "      <td>18621</td>\n",
              "      <td>5314</td>\n",
              "      <td>1410</td>\n",
              "      <td>75</td>\n",
              "      <td>1001</td>\n",
              "    </tr>\n",
              "  </tbody>\n",
              "</table>\n",
              "</div>"
            ],
            "text/plain": [
              "              has_superstructure_adobe_mud  ...  has_superstructure_other\n",
              "damage_grade                                ...                          \n",
              "1                                      594  ...                       656\n",
              "2                                    13902  ...                      2248\n",
              "3                                     8605  ...                      1001\n",
              "\n",
              "[3 rows x 11 columns]"
            ]
          },
          "metadata": {
            "tags": []
          },
          "execution_count": 220
        }
      ]
    },
    {
      "cell_type": "code",
      "metadata": {
        "colab": {
          "base_uri": "https://localhost:8080/",
          "height": 629
        },
        "id": "cHK-fmWXOQrC",
        "outputId": "d7e70170-ca81-4f62-e476-23d6a4190568"
      },
      "source": [
        "heat_map = sns.heatmap(df, linewidths = 2, cmap= 'coolwarm')\n",
        "heat_map.set_xticklabels(nombres_x)\n",
        "heat_map.set_title(\"MATERIALES Y SUS DISTINTOS NIVELES DE DAÑO\", fontsize = 14)"
      ],
      "execution_count": null,
      "outputs": [
        {
          "output_type": "execute_result",
          "data": {
            "text/plain": [
              "Text(0.5, 1.0, 'MATERIALES Y SUS DISTINTOS NIVELES DE DAÑO')"
            ]
          },
          "metadata": {
            "tags": []
          },
          "execution_count": 221
        },
        {
          "output_type": "display_data",
          "data": {
            "image/png": "[encoded data removed]",
            "text/plain": [
              "<Figure size 720x576 with 2 Axes>"
            ]
          },
          "metadata": {
            "tags": []
          }
        }
      ]
    },
    {
      "cell_type": "code",
      "metadata": {
        "colab": {
          "base_uri": "https://localhost:8080/",
          "height": 628
        },
        "id": "m8XS32oipNeh",
        "outputId": "f50d5f35-6aff-4657-df57-4bda997f315e"
      },
      "source": [
        "df_materiales = df_con_damage.loc[:,materiales]\n",
        "plot = df_materiales.sum().plot(kind = 'bar', color = 'tab:olive', title = 'DISTRIBUCION DE LOS MATERIALES',\\\n",
        "xlabel= 'Materiales', ylabel = 'Cantidad').set_xticklabels(nombres_x)"
      ],
      "execution_count": null,
      "outputs": [
        {
          "output_type": "display_data",
          "data": {
            "image/png": "[encoded data removed]",
            "text/plain": [
              "<Figure size 720x576 with 1 Axes>"
            ]
          },
          "metadata": {
            "tags": []
          }
        }
      ]
    },
    {
      "cell_type": "markdown",
      "metadata": {
        "id": "CpLN28bRBPZ3"
      },
      "source": [
        "* cual era el uso principal?"
      ]
    },
    {
      "cell_type": "code",
      "metadata": {
        "colab": {
          "base_uri": "https://localhost:8080/",
          "height": 746
        },
        "id": "M6Q4x5LNjI__",
        "outputId": "a9d7d529-5166-42d7-c36a-4b7639b0ed61"
      },
      "source": [
        "train_values_dataset.loc[train_values_dataset['has_superstructure_mud_mortar_stone'] == 1, \\\n",
        "\"has_secondary_use_agriculture\" : \"has_secondary_use_other\"].sum().plot(kind = 'bar',xlabel= 'uso', ylabel = 'Cantidad',\\\n",
        "title = 'CANTIDAD DE EDIFICIOS PARA CADA USO', color = 'orangered').set_xticklabels(usos_edificios)"
      ],
      "execution_count": null,
      "outputs": [
        {
          "output_type": "execute_result",
          "data": {
            "text/plain": [
              "[Text(0, 0, 'agricultura'),\n",
              " Text(0, 0, 'hoteleria'),\n",
              " Text(0, 0, 'renta'),\n",
              " Text(0, 0, 'institucional'),\n",
              " Text(0, 0, 'escolar'),\n",
              " Text(0, 0, 'industial'),\n",
              " Text(0, 0, 'salud'),\n",
              " Text(0, 0, 'gobierno'),\n",
              " Text(0, 0, 'policial'),\n",
              " Text(0, 0, 'otro')]"
            ]
          },
          "metadata": {
            "tags": []
          },
          "execution_count": 223
        },
        {
          "output_type": "display_data",
          "data": {
            "image/png": "[encoded data removed]",
            "text/plain": [
              "<Figure size 720x576 with 1 Axes>"
            ]
          },
          "metadata": {
            "tags": []
          }
        }
      ]
    },
    {
      "cell_type": "markdown",
      "metadata": {
        "id": "SpZ54WjtfAIQ"
      },
      "source": [
        "* mayor uso en agricultura talvez es una de las actividades mas frecuente en el pais y piedra - barro el principal material de construcciones para este rubro"
      ]
    },
    {
      "cell_type": "markdown",
      "metadata": {
        "id": "Sly7dvBzc9M4"
      },
      "source": [
        "### Analisis de Condicion de superficie"
      ]
    },
    {
      "cell_type": "markdown",
      "metadata": {
        "id": "1qv7Ve70BWZd"
      },
      "source": [
        "* los edificios que mas se vieron afectados (nivel 3): cual era la condicion de la tierra ?"
      ]
    },
    {
      "cell_type": "code",
      "metadata": {
        "colab": {
          "base_uri": "https://localhost:8080/",
          "height": 142
        },
        "id": "mQvON2XJd0wQ",
        "outputId": "6d55cf3e-e24a-41a2-c7e1-2511ac199ecb"
      },
      "source": [
        "condicion_tierra_construcciones = train_values_dataset[['building_id', 'land_surface_condition']]\n",
        "danio = condicion_tierra_construcciones.merge(train_labels_dataset, how= 'inner')[[\"damage_grade\",\"land_surface_condition\"]]\n",
        "danio_nivel_3 = danio[danio['damage_grade'] == 3].value_counts('land_surface_condition').reset_index()\\\n",
        ".rename(columns = {0: 'edificios_danio_tres'})\n",
        "danio_nivel_3"
      ],
      "execution_count": null,
      "outputs": [
        {
          "output_type": "execute_result",
          "data": {
            "text/html": [
              "<div>\n",
              "<style scoped>\n",
              "    .dataframe tbody tr th:only-of-type {\n",
              "        vertical-align: middle;\n",
              "    }\n",
              "\n",
              "    .dataframe tbody tr th {\n",
              "        vertical-align: top;\n",
              "    }\n",
              "\n",
              "    .dataframe thead th {\n",
              "        text-align: right;\n",
              "    }\n",
              "</style>\n",
              "<table border=\"1\" class=\"dataframe\">\n",
              "  <thead>\n",
              "    <tr style=\"text-align: right;\">\n",
              "      <th></th>\n",
              "      <th>land_surface_condition</th>\n",
              "      <th>edificios_danio_tres</th>\n",
              "    </tr>\n",
              "  </thead>\n",
              "  <tbody>\n",
              "    <tr>\n",
              "      <th>0</th>\n",
              "      <td>t</td>\n",
              "      <td>72724</td>\n",
              "    </tr>\n",
              "    <tr>\n",
              "      <th>1</th>\n",
              "      <td>n</td>\n",
              "      <td>11488</td>\n",
              "    </tr>\n",
              "    <tr>\n",
              "      <th>2</th>\n",
              "      <td>o</td>\n",
              "      <td>3006</td>\n",
              "    </tr>\n",
              "  </tbody>\n",
              "</table>\n",
              "</div>"
            ],
            "text/plain": [
              "  land_surface_condition  edificios_danio_tres\n",
              "0                      t                 72724\n",
              "1                      n                 11488\n",
              "2                      o                  3006"
            ]
          },
          "metadata": {
            "tags": []
          },
          "execution_count": 224
        }
      ]
    },
    {
      "cell_type": "code",
      "metadata": {
        "colab": {
          "base_uri": "https://localhost:8080/",
          "height": 353
        },
        "id": "PWsi_XdNGPDN",
        "outputId": "f05dd087-40ad-4f9c-827c-d8e8d759a737"
      },
      "source": [
        "danio_nivel_3.plot(kind= 'bar', x = 'land_surface_condition', y= 'edificios_danio_tres', \\\n",
        "title = 'Edificios con daño 3 en sus diferentes superficies de construccion', fontsize= 12,\\\n",
        "xlabel= 'Condicion superficie', ylabel= 'cantidad edificios',color='goldenrod',\\\n",
        "figsize = (8,5)).figure.savefig('condicion superficie.png')"
      ],
      "execution_count": null,
      "outputs": [
        {
          "output_type": "display_data",
          "data": {
            "image/png": "[encoded data removed]",
            "text/plain": [
              "<Figure size 576x360 with 1 Axes>"
            ]
          },
          "metadata": {
            "tags": []
          }
        }
      ]
    },
    {
      "cell_type": "markdown",
      "metadata": {
        "id": "T7V2WTMbBh7N"
      },
      "source": [
        "* la condicion de tierra con letra t es la peor (mas insegura para un terremoto a priori)\n",
        "* algun edificio/construccion que contenga muchas personas esta ubicada en esta categoria?"
      ]
    },
    {
      "cell_type": "code",
      "metadata": {
        "colab": {
          "base_uri": "https://localhost:8080/",
          "height": 746
        },
        "id": "eH1i9IDXpNMj",
        "outputId": "d745fe92-0474-42a6-da36-3d795fced2ee"
      },
      "source": [
        "train_values_dataset.groupby('land_surface_condition').sum().loc[:, \"has_secondary_use_agriculture\" : \"has_secondary_use_other\"].T.\\\n",
        "plot(kind = 'bar',xlabel= 'Uso', ylabel = 'Cantidad',\\\n",
        "title = 'CANTIDAD DE DISTINTAS CONDICIONES DE SUPERFICIES PARA CADA USO',color = ['indigo','maroon' , 'salmon']).set_xticklabels(usos_edificios)"
      ],
      "execution_count": null,
      "outputs": [
        {
          "output_type": "execute_result",
          "data": {
            "text/plain": [
              "[Text(0, 0, 'agricultura'),\n",
              " Text(0, 0, 'hoteleria'),\n",
              " Text(0, 0, 'renta'),\n",
              " Text(0, 0, 'institucional'),\n",
              " Text(0, 0, 'escolar'),\n",
              " Text(0, 0, 'industial'),\n",
              " Text(0, 0, 'salud'),\n",
              " Text(0, 0, 'gobierno'),\n",
              " Text(0, 0, 'policial'),\n",
              " Text(0, 0, 'otro')]"
            ]
          },
          "metadata": {
            "tags": []
          },
          "execution_count": 226
        },
        {
          "output_type": "display_data",
          "data": {
            "image/png": "[encoded data removed]",
            "text/plain": [
              "<Figure size 720x576 with 1 Axes>"
            ]
          },
          "metadata": {
            "tags": []
          }
        }
      ]
    },
    {
      "cell_type": "markdown",
      "metadata": {
        "id": "GHQxXqcHZaJX"
      },
      "source": [
        "* la condicion de tierra t es la mas frecuente en la zona, todas las edificaciones estan edificadas sobre esta \n",
        "* todas las estructuras tuvieron un daño nivel 2 mayormente pero las que mas numero de daño tuvieron con nivel 3 fueron la de piedra y barro  "
      ]
    },
    {
      "cell_type": "code",
      "metadata": {
        "colab": {
          "base_uri": "https://localhost:8080/",
          "height": 746
        },
        "id": "UAvvMJoP_6Ft",
        "outputId": "6c6f6eae-86a6-49d4-e6fa-593be2dd3c89"
      },
      "source": [
        "df_con_damage.groupby('damage_grade').sum().loc[:,'has_secondary_use_agriculture': 'has_secondary_use_other'].T.plot(kind= 'bar',xlabel= 'Uso', ylabel = 'Cantidad',\\\n",
        "title = 'DAÑO RECIBIDO PARA CADA USO DE LA CONSTRUCCION', \\\n",
        "color = ['crimson','pink' , 'tan']).set_xticklabels(usos_edificios)"
      ],
      "execution_count": null,
      "outputs": [
        {
          "output_type": "execute_result",
          "data": {
            "text/plain": [
              "[Text(0, 0, 'agricultura'),\n",
              " Text(0, 0, 'hoteleria'),\n",
              " Text(0, 0, 'renta'),\n",
              " Text(0, 0, 'institucional'),\n",
              " Text(0, 0, 'escolar'),\n",
              " Text(0, 0, 'industial'),\n",
              " Text(0, 0, 'salud'),\n",
              " Text(0, 0, 'gobierno'),\n",
              " Text(0, 0, 'policial'),\n",
              " Text(0, 0, 'otro')]"
            ]
          },
          "metadata": {
            "tags": []
          },
          "execution_count": 227
        },
        {
          "output_type": "display_data",
          "data": {
            "image/png": "[encoded data removed]",
            "text/plain": [
              "<Figure size 720x576 with 1 Axes>"
            ]
          },
          "metadata": {
            "tags": []
          }
        }
      ]
    },
    {
      "cell_type": "markdown",
      "metadata": {
        "id": "qWwrZ6g0BpOS"
      },
      "source": [
        "* por que si todas las construccines estan mayormente plantadas en las mismas condiciones de superficie algunas tuvieron mas daño?\n",
        "* tanto hoteles y edificaciones para agricultura fueron los mas afectados por el material construido \n"
      ]
    },
    {
      "cell_type": "markdown",
      "metadata": {
        "id": "u0KD524T8YN5"
      },
      "source": [
        "### Analisis Estado legal tierra"
      ]
    },
    {
      "cell_type": "code",
      "metadata": {
        "colab": {
          "base_uri": "https://localhost:8080/",
          "height": 204
        },
        "id": "4oLkfKkTeGOO",
        "outputId": "f0f9ae5e-588b-46b1-b466-cfccbdf467e7"
      },
      "source": [
        "df_con_damage['cant'] = 1\n",
        "danio_estado_legal_tierra = df_con_damage[['damage_grade','legal_ownership_status', 'cant']]\\\n",
        ".groupby(['damage_grade', 'legal_ownership_status']).sum().reset_index()\\\n",
        ".pivot(index = 'legal_ownership_status', columns = 'damage_grade', values = 'cant')\n",
        "danio_estado_legal_tierra"
      ],
      "execution_count": null,
      "outputs": [
        {
          "output_type": "execute_result",
          "data": {
            "text/html": [
              "<div>\n",
              "<style scoped>\n",
              "    .dataframe tbody tr th:only-of-type {\n",
              "        vertical-align: middle;\n",
              "    }\n",
              "\n",
              "    .dataframe tbody tr th {\n",
              "        vertical-align: top;\n",
              "    }\n",
              "\n",
              "    .dataframe thead th {\n",
              "        text-align: right;\n",
              "    }\n",
              "</style>\n",
              "<table border=\"1\" class=\"dataframe\">\n",
              "  <thead>\n",
              "    <tr style=\"text-align: right;\">\n",
              "      <th>damage_grade</th>\n",
              "      <th>1</th>\n",
              "      <th>2</th>\n",
              "      <th>3</th>\n",
              "    </tr>\n",
              "    <tr>\n",
              "      <th>legal_ownership_status</th>\n",
              "      <th></th>\n",
              "      <th></th>\n",
              "      <th></th>\n",
              "    </tr>\n",
              "  </thead>\n",
              "  <tbody>\n",
              "    <tr>\n",
              "      <th>a</th>\n",
              "      <td>1511</td>\n",
              "      <td>3074</td>\n",
              "      <td>927</td>\n",
              "    </tr>\n",
              "    <tr>\n",
              "      <th>r</th>\n",
              "      <td>213</td>\n",
              "      <td>727</td>\n",
              "      <td>533</td>\n",
              "    </tr>\n",
              "    <tr>\n",
              "      <th>v</th>\n",
              "      <td>23270</td>\n",
              "      <td>143154</td>\n",
              "      <td>84515</td>\n",
              "    </tr>\n",
              "    <tr>\n",
              "      <th>w</th>\n",
              "      <td>130</td>\n",
              "      <td>1304</td>\n",
              "      <td>1243</td>\n",
              "    </tr>\n",
              "  </tbody>\n",
              "</table>\n",
              "</div>"
            ],
            "text/plain": [
              "damage_grade                1       2      3\n",
              "legal_ownership_status                      \n",
              "a                        1511    3074    927\n",
              "r                         213     727    533\n",
              "v                       23270  143154  84515\n",
              "w                         130    1304   1243"
            ]
          },
          "metadata": {
            "tags": []
          },
          "execution_count": 228
        }
      ]
    },
    {
      "cell_type": "code",
      "metadata": {
        "colab": {
          "base_uri": "https://localhost:8080/",
          "height": 534
        },
        "id": "JPkyYmZ-yYsF",
        "outputId": "b8b85157-bb43-4a1d-88cd-eaf061c18099"
      },
      "source": [
        "danio_estado_legal_tierra.plot.bar(stacked = True, color = ['#FF6347', '#800080', '#9ACD32'],xlabel= 'Estado legal tierra', ylabel = 'Cantidad',\\\n",
        "title = 'CANTIDAD PARA CADA CATEGORIA LEGAL DE TIERRA Y SU GRADO DE DAÑO')"
      ],
      "execution_count": null,
      "outputs": [
        {
          "output_type": "execute_result",
          "data": {
            "text/plain": [
              "<matplotlib.axes._subplots.AxesSubplot at 0x7f70b6743f90>"
            ]
          },
          "metadata": {
            "tags": []
          },
          "execution_count": 229
        },
        {
          "output_type": "display_data",
          "data": {
            "image/png": "[encoded data removed]",
            "text/plain": [
              "<Figure size 720x576 with 1 Axes>"
            ]
          },
          "metadata": {
            "tags": []
          }
        }
      ]
    },
    {
      "cell_type": "markdown",
      "metadata": {
        "id": "y1xSS-DpeQak"
      },
      "source": [
        "* sin categoria v de estado legal"
      ]
    },
    {
      "cell_type": "code",
      "metadata": {
        "colab": {
          "base_uri": "https://localhost:8080/",
          "height": 534
        },
        "id": "uqgEG1gahAcy",
        "outputId": "2e43c90c-57bb-4d8c-8825-72f2dd2fbb78"
      },
      "source": [
        "df_con_damage['cant'] = 1\n",
        "danio_estado_legal_tierra = df_con_damage[['damage_grade','legal_ownership_status', 'cant']]\\\n",
        ".groupby(['damage_grade', 'legal_ownership_status']).sum().reset_index()\\\n",
        ".pivot(index = 'legal_ownership_status', columns = 'damage_grade', values = 'cant')\n",
        "danio_estado_legal_tierra.loc[['a', 'r','w'], :].plot.bar(stacked = True, color = ['orangered', 'turquoise', 'teal'], figsize = (9,8),xlabel= 'Estado legal tierra', ylabel = 'Cantidad',\\\n",
        "title = 'CANTIDAD PARA CADA CATEGORIA LEGAL DE TIERRA Y SU GRADO DE DAÑO SIN CATEGORIA V')"
      ],
      "execution_count": null,
      "outputs": [
        {
          "output_type": "execute_result",
          "data": {
            "text/plain": [
              "<matplotlib.axes._subplots.AxesSubplot at 0x7f70b6743ad0>"
            ]
          },
          "metadata": {
            "tags": []
          },
          "execution_count": 230
        },
        {
          "output_type": "display_data",
          "data": {
            "image/png": "[encoded data removed]",
            "text/plain": [
              "<Figure size 648x576 with 1 Axes>"
            ]
          },
          "metadata": {
            "tags": []
          }
        }
      ]
    },
    {
      "cell_type": "markdown",
      "metadata": {
        "id": "q7hPopf3BzlG"
      },
      "source": [
        "* que porcentaje de las las edificaciones con los materiales mas afectados tiene el estado legal v?"
      ]
    },
    {
      "cell_type": "code",
      "metadata": {
        "id": "adRWdpNXnDR6"
      },
      "source": [
        "total_estado_v = df_con_damage.loc[df_con_damage['legal_ownership_status'] == 'v'].value_counts('legal_ownership_status').at['v']"
      ],
      "execution_count": null,
      "outputs": []
    },
    {
      "cell_type": "code",
      "metadata": {
        "colab": {
          "base_uri": "https://localhost:8080/"
        },
        "id": "RQPsvFHQmJD9",
        "outputId": "28156c77-336f-46ba-8bc9-ae18710e7a5a"
      },
      "source": [
        "cantidad_v_timber= df_con_damage.loc[(df_con_damage['has_superstructure_mud_mortar_stone'] == 0) & (df_con_damage['has_superstructure_timber'] == 1)\\\n",
        "&(df_con_damage['legal_ownership_status'] == 'v'), ['cant']]\n",
        "cantidad_v_timber.sum()['cant']"
      ],
      "execution_count": null,
      "outputs": [
        {
          "output_type": "execute_result",
          "data": {
            "text/plain": [
              "15204"
            ]
          },
          "metadata": {
            "tags": []
          },
          "execution_count": 232
        }
      ]
    },
    {
      "cell_type": "code",
      "metadata": {
        "colab": {
          "base_uri": "https://localhost:8080/"
        },
        "id": "yx6JTrVJpRuO",
        "outputId": "eba1529f-8815-4848-91a0-6490d7eda767"
      },
      "source": [
        "cantidad_v_piedra_barro = df_con_damage.loc[(df_con_damage['has_superstructure_mud_mortar_stone'] == 1) & (df_con_damage['has_superstructure_timber'] == 0)\\\n",
        "&(df_con_damage['legal_ownership_status'] == 'v'), ['cant']]\n",
        "cantidad_v_piedra_barro.sum()['cant']"
      ],
      "execution_count": null,
      "outputs": [
        {
          "output_type": "execute_result",
          "data": {
            "text/plain": [
              "146623"
            ]
          },
          "metadata": {
            "tags": []
          },
          "execution_count": 233
        }
      ]
    },
    {
      "cell_type": "markdown",
      "metadata": {
        "id": "5_1bUEZxB5Ut"
      },
      "source": [
        "porcentaje piedra-barro"
      ]
    },
    {
      "cell_type": "code",
      "metadata": {
        "colab": {
          "base_uri": "https://localhost:8080/"
        },
        "id": "NMh5D5ARpzIp",
        "outputId": "10d082f7-9638-4145-8175-1cf2186a77a5"
      },
      "source": [
        "\n",
        "(146623 / total_estado_v) * 100"
      ],
      "execution_count": null,
      "outputs": [
        {
          "output_type": "execute_result",
          "data": {
            "text/plain": [
              "58.42973790443096"
            ]
          },
          "metadata": {
            "tags": []
          },
          "execution_count": 234
        }
      ]
    },
    {
      "cell_type": "markdown",
      "metadata": {
        "id": "gLvwrBhvB9Cm"
      },
      "source": [
        "porcentaje timber"
      ]
    },
    {
      "cell_type": "code",
      "metadata": {
        "colab": {
          "base_uri": "https://localhost:8080/"
        },
        "id": "HqIOYkLZpKgO",
        "outputId": "313bce2f-29cf-4e29-9be6-34821b84c47e"
      },
      "source": [
        "\n",
        "(15204 / total_estado_v) * 100"
      ],
      "execution_count": null,
      "outputs": [
        {
          "output_type": "execute_result",
          "data": {
            "text/plain": [
              "6.05884298574554"
            ]
          },
          "metadata": {
            "tags": []
          },
          "execution_count": 235
        }
      ]
    },
    {
      "cell_type": "markdown",
      "metadata": {
        "id": "dJbIHaPACAAe"
      },
      "source": [
        "porcentaje total"
      ]
    },
    {
      "cell_type": "code",
      "metadata": {
        "colab": {
          "base_uri": "https://localhost:8080/"
        },
        "id": "lNDN_HoPtIZc",
        "outputId": "4175bcee-14ca-4463-f787-181fba59ca9b"
      },
      "source": [
        "\n",
        "(161827 / total_estado_v) *100 "
      ],
      "execution_count": null,
      "outputs": [
        {
          "output_type": "execute_result",
          "data": {
            "text/plain": [
              "64.4885808901765"
            ]
          },
          "metadata": {
            "tags": []
          },
          "execution_count": 236
        }
      ]
    },
    {
      "cell_type": "code",
      "metadata": {
        "colab": {
          "base_uri": "https://localhost:8080/",
          "height": 482
        },
        "id": "19Bo4RiV0C99",
        "outputId": "ac784aba-9ab8-48c8-a16a-3cea0d9639f3"
      },
      "source": [
        "colores = ['goldenrod','teal','tomato']\n",
        "labels = 'Barro - piedra', 'Timber', 'Otras'\n",
        "sizes = [58, 6, 36]\n",
        "explode = (0, 0.0, 0.0)  # only \"explode\" the 2nd slice (i.e. 'Hogs')\n",
        "\n",
        "fig1, ax1 = plt.subplots()\n",
        "ax1.pie(sizes, explode=explode, labels=labels, colors = colores, autopct='%1.1f%%',\n",
        "        shadow=False, startangle=90)\n",
        "ax1.axis('equal') \n",
        "plt.title('PORCENTAJES DE ESTADO LEGAL \"V\"')\n",
        "plt.show()"
      ],
      "execution_count": null,
      "outputs": [
        {
          "output_type": "display_data",
          "data": {
            "image/png": "[encoded data removed]",
            "text/plain": [
              "<Figure size 720x576 with 1 Axes>"
            ]
          },
          "metadata": {
            "tags": []
          }
        }
      ]
    },
    {
      "cell_type": "markdown",
      "metadata": {
        "id": "h269hU7nCGPa"
      },
      "source": [
        "Se puede decir que en la mayoria de la categoria 'v', las construcciones que se encuentran en ellas el daño por el terremoto fue mayor, lo cual hace pensar que es una poblacion de bajos recursos y las condiciones en donde se viven son sumamente precarias."
      ]
    },
    {
      "cell_type": "code",
      "metadata": {
        "id": "uYcVDvIEZtmg"
      },
      "source": [
        "# lo que sigue son graficos para otro analisis"
      ],
      "execution_count": null,
      "outputs": []
    },
    {
      "cell_type": "code",
      "metadata": {
        "id": "kx4xbZBPcgmG",
        "colab": {
          "base_uri": "https://localhost:8080/",
          "height": 518
        },
        "outputId": "ddfcad82-5357-4ccf-df90-02042282a563"
      },
      "source": [
        "sns.set(rc = {'figure.figsize':(10,8)})\n",
        "scatter = sns.scatterplot(x= 'height_percentage', y= 'count_floors_pre_eq' ,data = para_scatter, hue='damage_grade', palette= \"Set1\")\n",
        "scatter.set_title(\"COMPARACION ENTRE PORCENTAJE DE AREA Y CANTIDAD DE PISOS\", fontsize = 13).figure.savefig('scatter_pisos_altura.png')"
      ],
      "execution_count": null,
      "outputs": [
        {
          "output_type": "display_data",
          "data": {
            "image/png": "[encoded data removed]",
            "text/plain": [
              "<Figure size 720x576 with 1 Axes>"
            ]
          },
          "metadata": {
            "tags": []
          }
        }
      ]
    },
    {
      "cell_type": "code",
      "metadata": {
        "id": "eROQ8ggscgjU",
        "colab": {
          "base_uri": "https://localhost:8080/",
          "height": 518
        },
        "outputId": "03e4b2e6-d8a1-4c1f-b836-fee4d881ec55"
      },
      "source": [
        "sns.set(rc = {'figure.figsize':(10,8)})\n",
        "scatter = sns.scatterplot(x= 'area_percentage', y= 'height_percentage' ,data = df_con_damage, hue='damage_grade', palette= \"Set2\")\n",
        "scatter.set_title(\"COMPARACION ENTRE PORCENTAJE DE AREA Y ALTURA\", fontsize = 13).figure.savefig('scatter_area_altura.png')"
      ],
      "execution_count": null,
      "outputs": [
        {
          "output_type": "display_data",
          "data": {
            "image/png": "[encoded data removed]",
            "text/plain": [
              "<Figure size 720x576 with 1 Axes>"
            ]
          },
          "metadata": {
            "tags": []
          }
        }
      ]
    }
  ]
}